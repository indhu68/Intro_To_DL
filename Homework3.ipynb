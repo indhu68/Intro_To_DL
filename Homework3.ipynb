{
  "nbformat": 4,
  "nbformat_minor": 0,
  "metadata": {
    "colab": {
      "provenance": [],
      "machine_shape": "hm",
      "gpuType": "V100",
      "authorship_tag": "ABX9TyNGoMUNPluZJ6MyGoi50Erf",
      "include_colab_link": true
    },
    "kernelspec": {
      "name": "python3",
      "display_name": "Python 3"
    },
    "language_info": {
      "name": "python"
    },
    "accelerator": "GPU"
  },
  "cells": [
    {
      "cell_type": "markdown",
      "metadata": {
        "id": "view-in-github",
        "colab_type": "text"
      },
      "source": [
        "<a href=\"https://colab.research.google.com/github/indhu68/Intro_To_DL/blob/main/Homework3.ipynb\" target=\"_parent\"><img src=\"https://colab.research.google.com/assets/colab-badge.svg\" alt=\"Open In Colab\"/></a>"
      ]
    },
    {
      "cell_type": "markdown",
      "source": [
        "                                    Introduction to Deep Learning\n",
        "\n",
        "                                            Homework 3\n",
        "\n",
        "Name: Indhuja Gudluru\n",
        "\n",
        "Student ID: 801366046"
      ],
      "metadata": {
        "id": "EOd1oWYTIye8"
      }
    },
    {
      "cell_type": "code",
      "execution_count": 53,
      "metadata": {
        "id": "25uUi1yeU6Nz"
      },
      "outputs": [],
      "source": [
        "import torch\n",
        "import torch.nn as nn\n",
        "import torch.optim as optim\n",
        "import numpy as np\n",
        "from sklearn.model_selection import train_test_split\n",
        "import time\n"
      ]
    },
    {
      "cell_type": "code",
      "source": [
        "text = \"Next character prediction is a fundamental task in the field of natural language processing (NLP) that involves predicting the next character in a sequence of text based on the characters that precede it. This task is essential for various applications, including text auto-completion, spell checking, and even in the development of sophisticated AI models capable of generating human-like text.At its core, next character prediction relies on statistical models or deep learning algorithms to analyze a given sequence of text and predict which character is most likely to follow. These predictions are based on patterns and relationships learned from large datasets of text during the training phase of the model. One of the most popular approaches to next character prediction involves the use of Recurrent Neural Networks (RNNs), and more specifically, a variant called Long Short-Term Memory (LSTM) networks. RNNs are particularly well-suited for sequential data like text, as they can maintain information in 'memory' about previous characters to inform the prediction of the next character. LSTM networks enhance this capability by being able to remember long-term dependencies, making them even more effective for next character prediction tasks. Training a model for next character prediction involves feeding it large amounts of text data, allowing it to learn the probability of each character's appearance following a sequence of characters. During this training process, the model adjusts its parameters to minimize the difference between its predictions and the actual outcomes, thus improving its predictive accuracy over time. Once trained, the model can be used to predict the next character in a given piece of text by considering the sequence of characters that precede it. This can enhance user experience in text editing software, improve efficiency in coding environments with auto-completion features, and enable more natural interactions with AI-based chatbots and virtual assistants. In summary, next character prediction plays a crucial role in enhancing the capabilities of various NLP applications, making text-based interactions more efficient, accurate, and human-like. Through the use of advanced machine learning models like RNNs and LSTMs, next character prediction continues to evolve, opening new possibilities for the future of text-based technology\"\n"
      ],
      "metadata": {
        "id": "y9TL5ku-VJKi"
      },
      "execution_count": 54,
      "outputs": []
    },
    {
      "cell_type": "code",
      "source": [
        "class CharRNN(nn.Module):\n",
        "    def __init__(self, input_size, hidden_size, output_size):\n",
        "        super(CharRNN, self).__init__()\n",
        "        self.hidden_size = hidden_size\n",
        "        self.embedding = nn.Embedding(input_size, hidden_size)\n",
        "        self.rnn = nn.LSTM(hidden_size, hidden_size, batch_first=True)\n",
        "        self.fc = nn.Linear(hidden_size, output_size)\n",
        "\n",
        "    def forward(self, x):\n",
        "        embedded = self.embedding(x)\n",
        "        output, _ = self.rnn(embedded)\n",
        "        output = self.fc(output[:, -1, :])  # Get the output of the last RNN cell\n",
        "        return output"
      ],
      "metadata": {
        "id": "3G1w-OkUcBbc"
      },
      "execution_count": 55,
      "outputs": []
    },
    {
      "cell_type": "code",
      "source": [
        "class CharLSTM(nn.Module):\n",
        "    def __init__(self, input_size, hidden_size, output_size):\n",
        "        super(CharLSTM, self).__init__()\n",
        "        self.hidden_size = hidden_size\n",
        "        self.embedding = nn.Embedding(input_size, hidden_size)\n",
        "        self.lstm = nn.LSTM(hidden_size, hidden_size, batch_first=True)\n",
        "        self.fc = nn.Linear(hidden_size, output_size)\n",
        "\n",
        "    def forward(self, x):\n",
        "        embedded = self.embedding(x)\n",
        "        output, _ = self.lstm(embedded)\n",
        "        output = self.fc(output[:, -1, :])\n",
        "        return output"
      ],
      "metadata": {
        "id": "buyrXG6XcFxW"
      },
      "execution_count": 56,
      "outputs": []
    },
    {
      "cell_type": "code",
      "source": [
        "class CharGRU(nn.Module):\n",
        "    def __init__(self, input_size, hidden_size, output_size):\n",
        "        super(CharGRU, self).__init__()\n",
        "        self.hidden_size = hidden_size\n",
        "        self.embedding = nn.Embedding(input_size, hidden_size)\n",
        "        self.gru = nn.GRU(hidden_size, hidden_size, batch_first=True)\n",
        "        self.fc = nn.Linear(hidden_size, output_size)\n",
        "\n",
        "    def forward(self, x):\n",
        "        embedded = self.embedding(x)\n",
        "        output, _ = self.gru(embedded)\n",
        "        output = self.fc(output[:, -1, :])\n",
        "        return output"
      ],
      "metadata": {
        "id": "ZZGLoJQNcJqo"
      },
      "execution_count": 57,
      "outputs": []
    },
    {
      "cell_type": "code",
      "source": [
        "chars = sorted(list(set(text)))\n",
        "ix_to_char = {i: ch for i, ch in enumerate(chars)}\n",
        "char_to_ix = {ch: i for i, ch in enumerate(chars)}\n",
        "chars = sorted(list(set(text)))\n",
        "\n"
      ],
      "metadata": {
        "id": "9HGbrtB9VlX3"
      },
      "execution_count": 58,
      "outputs": []
    },
    {
      "cell_type": "code",
      "source": [
        "def data_prep(text, max_length):\n",
        "  X = []\n",
        "  y = []\n",
        "  for i in range(len(text) - max_length):\n",
        "      sequence = text[i:i + max_length]\n",
        "      label = text[i + max_length]\n",
        "      X.append([char_to_ix[char] for char in sequence])\n",
        "      y.append(char_to_ix[label])\n",
        "  X = np.array(X)\n",
        "  y = np.array(y)\n",
        "  return X, y\n"
      ],
      "metadata": {
        "id": "risFFn0uVz7I"
      },
      "execution_count": 59,
      "outputs": []
    },
    {
      "cell_type": "code",
      "source": [
        "#Hyperparameters\n",
        "hidden_size = 128\n",
        "learning_rate = 0.005\n",
        "epochs = 100\n"
      ],
      "metadata": {
        "id": "7woN08cawpC_"
      },
      "execution_count": 60,
      "outputs": []
    },
    {
      "cell_type": "code",
      "source": [
        "def train_predict(max_length, model, X_train, y_train, X_val, y_val, criterion, optimizer):\n",
        "  #Training the model\n",
        "  start_time = time.time()\n",
        "  for epoch in range(epochs):\n",
        "      model.train()\n",
        "      optimizer.zero_grad()\n",
        "      output = model(X_train)\n",
        "      loss = criterion(output, y_train)\n",
        "      loss.backward()\n",
        "      optimizer.step()\n",
        "\n",
        "      # Validation\n",
        "      model.eval()\n",
        "      with torch.no_grad():\n",
        "          val_output = model(X_val)\n",
        "          val_loss = criterion(val_output, y_val)\n",
        "          _, predicted = torch.max(val_output, 1)\n",
        "          val_accuracy = (predicted == y_val).float().mean()\n",
        "\n",
        "      if (epoch+1) % 10 == 0:\n",
        "          print(f'Epoch {epoch+1}, Loss: {loss.item()}, Validation Loss: {val_loss.item()}, Validation Accuracy: {val_accuracy.item()}')\n",
        "  end_time = time.time()\n",
        "  execution_time = end_time - start_time\n",
        "  print(f\"Execution Time: {execution_time} seconds\")\n",
        "  # Prediction function\n",
        "  def predict_next_char(model, char_to_ix, ix_to_char, initial_str):\n",
        "      model.eval()\n",
        "      with torch.no_grad():\n",
        "          initial_input = torch.tensor([char_to_ix[c] for c in initial_str[-max_length:]], dtype=torch.long).unsqueeze(0)\n",
        "          prediction = model(initial_input)\n",
        "          predicted_index = torch.argmax(prediction, dim=1).item()\n",
        "          return ix_to_char[predicted_index]\n",
        "  total_params = sum(p.numel() for p in model.parameters())\n",
        "  print(f'Total number of parameters in the model: {total_params}')\n",
        "\n",
        "  # Predicting the next character\n",
        "  test_str = \"Predicting the next chara\"\n",
        "  predicted_char = predict_next_char(model, char_to_ix, ix_to_char, test_str)\n",
        "  print(f\"Predicted next character: '{predicted_char}'\")"
      ],
      "metadata": {
        "id": "Uhk2uL4IwtMb"
      },
      "execution_count": 61,
      "outputs": []
    },
    {
      "cell_type": "markdown",
      "source": [
        "RNN"
      ],
      "metadata": {
        "id": "8J-Of-vEhBeQ"
      }
    },
    {
      "cell_type": "code",
      "source": [
        "X,y = data_prep(text,10)\n",
        "X_train, X_val, y_train, y_val = train_test_split(X, y, test_size=0.2, random_state=42)\n",
        "X_train = torch.tensor(X_train, dtype=torch.long)\n",
        "y_train = torch.tensor(y_train, dtype=torch.long)\n",
        "X_val = torch.tensor(X_val, dtype=torch.long)\n",
        "y_val = torch.tensor(y_val, dtype=torch.long)\n",
        "model = CharRNN(len(chars), hidden_size, len(chars))\n",
        "criterion = nn.CrossEntropyLoss()\n",
        "optimizer = optim.Adam(model.parameters(), lr=learning_rate)\n",
        "train_predict(10, model, X_train, y_train, X_val, y_val, criterion, optimizer)"
      ],
      "metadata": {
        "colab": {
          "base_uri": "https://localhost:8080/"
        },
        "id": "tzPAZP8Qw0GR",
        "outputId": "53b7a622-1d58-4206-8aa9-c83ea7ba440e"
      },
      "execution_count": 62,
      "outputs": [
        {
          "output_type": "stream",
          "name": "stdout",
          "text": [
            "Epoch 10, Loss: 2.5650124549865723, Validation Loss: 2.4793667793273926, Validation Accuracy: 0.33052632212638855\n",
            "Epoch 20, Loss: 2.069395065307617, Validation Loss: 2.166416645050049, Validation Accuracy: 0.4399999976158142\n",
            "Epoch 30, Loss: 1.668236255645752, Validation Loss: 1.9849541187286377, Validation Accuracy: 0.4863157868385315\n",
            "Epoch 40, Loss: 1.3073127269744873, Validation Loss: 1.888149619102478, Validation Accuracy: 0.5094736814498901\n",
            "Epoch 50, Loss: 0.9758478999137878, Validation Loss: 1.8866946697235107, Validation Accuracy: 0.5178947448730469\n",
            "Epoch 60, Loss: 0.6958948969841003, Validation Loss: 1.942961573600769, Validation Accuracy: 0.503157913684845\n",
            "Epoch 70, Loss: 0.46101847290992737, Validation Loss: 2.0349106788635254, Validation Accuracy: 0.4989473819732666\n",
            "Epoch 80, Loss: 0.2872181534767151, Validation Loss: 2.1374318599700928, Validation Accuracy: 0.4842105209827423\n",
            "Epoch 90, Loss: 0.17510168254375458, Validation Loss: 2.2609705924987793, Validation Accuracy: 0.4863157868385315\n",
            "Epoch 100, Loss: 0.1145520731806755, Validation Loss: 2.4124555587768555, Validation Accuracy: 0.4736842215061188\n",
            "Execution Time: 11.835355043411255 seconds\n",
            "Total number of parameters in the model: 143404\n",
            "Predicted next character: 'c'\n"
          ]
        }
      ]
    },
    {
      "cell_type": "code",
      "source": [
        "X,y = data_prep(text,20)\n",
        "X_train, X_val, y_train, y_val = train_test_split(X, y, test_size=0.2, random_state=42)\n",
        "X_train = torch.tensor(X_train, dtype=torch.long)\n",
        "y_train = torch.tensor(y_train, dtype=torch.long)\n",
        "X_val = torch.tensor(X_val, dtype=torch.long)\n",
        "y_val = torch.tensor(y_val, dtype=torch.long)\n",
        "model = CharRNN(len(chars), hidden_size, len(chars))\n",
        "criterion = nn.CrossEntropyLoss()\n",
        "optimizer = optim.Adam(model.parameters(), lr=learning_rate)\n",
        "train_predict(20, model, X_train, y_train, X_val, y_val, criterion, optimizer)"
      ],
      "metadata": {
        "colab": {
          "base_uri": "https://localhost:8080/"
        },
        "id": "JLJqn9TexPL4",
        "outputId": "39934603-f656-4067-a783-1615ec6adeb9"
      },
      "execution_count": 63,
      "outputs": [
        {
          "output_type": "stream",
          "name": "stdout",
          "text": [
            "Epoch 10, Loss: 2.520806312561035, Validation Loss: 2.5369691848754883, Validation Accuracy: 0.27695560455322266\n",
            "Epoch 20, Loss: 2.062290668487549, Validation Loss: 2.224001884460449, Validation Accuracy: 0.41860464215278625\n",
            "Epoch 30, Loss: 1.684199333190918, Validation Loss: 2.055727481842041, Validation Accuracy: 0.4545454680919647\n",
            "Epoch 40, Loss: 1.333721399307251, Validation Loss: 1.972806692123413, Validation Accuracy: 0.5052854418754578\n",
            "Epoch 50, Loss: 1.019422173500061, Validation Loss: 1.9374723434448242, Validation Accuracy: 0.49894291162490845\n",
            "Epoch 60, Loss: 0.7715293765068054, Validation Loss: 1.9552240371704102, Validation Accuracy: 0.5116279125213623\n",
            "Epoch 70, Loss: 0.5279343724250793, Validation Loss: 2.0020477771759033, Validation Accuracy: 0.5264270901679993\n",
            "Epoch 80, Loss: 0.3585427701473236, Validation Loss: 2.0830323696136475, Validation Accuracy: 0.5179703831672668\n",
            "Epoch 90, Loss: 0.22949470579624176, Validation Loss: 2.171319007873535, Validation Accuracy: 0.5073995590209961\n",
            "Epoch 100, Loss: 0.14162154495716095, Validation Loss: 2.2874467372894287, Validation Accuracy: 0.5052854418754578\n",
            "Execution Time: 19.782549619674683 seconds\n",
            "Total number of parameters in the model: 143404\n",
            "Predicted next character: 'c'\n"
          ]
        }
      ]
    },
    {
      "cell_type": "code",
      "source": [
        "X,y = data_prep(text,30)\n",
        "X_train, X_val, y_train, y_val = train_test_split(X, y, test_size=0.2, random_state=42)\n",
        "X_train = torch.tensor(X_train, dtype=torch.long)\n",
        "y_train = torch.tensor(y_train, dtype=torch.long)\n",
        "X_val = torch.tensor(X_val, dtype=torch.long)\n",
        "y_val = torch.tensor(y_val, dtype=torch.long)\n",
        "model = CharRNN(len(chars), hidden_size, len(chars))\n",
        "criterion = nn.CrossEntropyLoss()\n",
        "optimizer = optim.Adam(model.parameters(), lr=learning_rate)\n",
        "train_predict(30, model, X_train, y_train, X_val, y_val, criterion, optimizer)"
      ],
      "metadata": {
        "colab": {
          "base_uri": "https://localhost:8080/"
        },
        "id": "4d9E05XdC3yA",
        "outputId": "59389161-826d-4891-925d-ef2146775d72"
      },
      "execution_count": 64,
      "outputs": [
        {
          "output_type": "stream",
          "name": "stdout",
          "text": [
            "Epoch 10, Loss: 2.5249485969543457, Validation Loss: 2.5249338150024414, Validation Accuracy: 0.29723992943763733\n",
            "Epoch 20, Loss: 2.030599594116211, Validation Loss: 2.1713712215423584, Validation Accuracy: 0.40552017092704773\n",
            "Epoch 30, Loss: 1.6446820497512817, Validation Loss: 1.9889518022537231, Validation Accuracy: 0.46496814489364624\n",
            "Epoch 40, Loss: 1.2863117456436157, Validation Loss: 1.8763012886047363, Validation Accuracy: 0.47770699858665466\n",
            "Epoch 50, Loss: 0.9749799370765686, Validation Loss: 1.8597301244735718, Validation Accuracy: 0.4904458522796631\n",
            "Epoch 60, Loss: 0.6996713280677795, Validation Loss: 1.883407711982727, Validation Accuracy: 0.5159235596656799\n",
            "Epoch 70, Loss: 0.48456674814224243, Validation Loss: 1.9367228746414185, Validation Accuracy: 0.5159235596656799\n",
            "Epoch 80, Loss: 0.30376413464546204, Validation Loss: 2.0326833724975586, Validation Accuracy: 0.5180467367172241\n",
            "Epoch 90, Loss: 0.2172960340976715, Validation Loss: 2.0953543186187744, Validation Accuracy: 0.5244161486625671\n",
            "Epoch 100, Loss: 0.12503722310066223, Validation Loss: 2.2266910076141357, Validation Accuracy: 0.5010615587234497\n",
            "Execution Time: 31.758538961410522 seconds\n",
            "Total number of parameters in the model: 143404\n",
            "Predicted next character: 'c'\n"
          ]
        }
      ]
    },
    {
      "cell_type": "markdown",
      "source": [
        "LSTM"
      ],
      "metadata": {
        "id": "hGN3j3bT_mXB"
      }
    },
    {
      "cell_type": "code",
      "source": [
        "X,y = data_prep(text,10)\n",
        "X_train, X_val, y_train, y_val = train_test_split(X, y, test_size=0.2, random_state=42)\n",
        "X_train = torch.tensor(X_train, dtype=torch.long)\n",
        "y_train = torch.tensor(y_train, dtype=torch.long)\n",
        "X_val = torch.tensor(X_val, dtype=torch.long)\n",
        "y_val = torch.tensor(y_val, dtype=torch.long)\n",
        "model = CharLSTM(len(chars), hidden_size, len(chars))\n",
        "criterion = nn.CrossEntropyLoss()\n",
        "optimizer = optim.Adam(model.parameters(), lr=learning_rate)\n",
        "train_predict(10, model, X_train, y_train, X_val, y_val, criterion, optimizer)"
      ],
      "metadata": {
        "colab": {
          "base_uri": "https://localhost:8080/"
        },
        "id": "5FPTXRKbDIUH",
        "outputId": "fd400909-b9d8-4720-8472-732f9c1e6fb8"
      },
      "execution_count": 66,
      "outputs": [
        {
          "output_type": "stream",
          "name": "stdout",
          "text": [
            "Epoch 10, Loss: 2.5294806957244873, Validation Loss: 2.428402900695801, Validation Accuracy: 0.378947377204895\n",
            "Epoch 20, Loss: 2.0187320709228516, Validation Loss: 2.105755090713501, Validation Accuracy: 0.4547368288040161\n",
            "Epoch 30, Loss: 1.6185027360916138, Validation Loss: 1.9610005617141724, Validation Accuracy: 0.4673684239387512\n",
            "Epoch 40, Loss: 1.256838321685791, Validation Loss: 1.8979696035385132, Validation Accuracy: 0.4989473819732666\n",
            "Epoch 50, Loss: 0.9374358057975769, Validation Loss: 1.9270497560501099, Validation Accuracy: 0.5094736814498901\n",
            "Epoch 60, Loss: 0.6471523642539978, Validation Loss: 1.9443050622940063, Validation Accuracy: 0.5073684453964233\n",
            "Epoch 70, Loss: 0.41391271352767944, Validation Loss: 2.0404160022735596, Validation Accuracy: 0.5010526180267334\n",
            "Epoch 80, Loss: 0.24856171011924744, Validation Loss: 2.1687257289886475, Validation Accuracy: 0.5010526180267334\n",
            "Epoch 90, Loss: 0.15127602219581604, Validation Loss: 2.270429849624634, Validation Accuracy: 0.5010526180267334\n",
            "Epoch 100, Loss: 0.1018686592578888, Validation Loss: 2.3517043590545654, Validation Accuracy: 0.5010526180267334\n",
            "Execution Time: 11.473617553710938 seconds\n",
            "Total number of parameters in the model: 143404\n",
            "Predicted next character: 'c'\n"
          ]
        }
      ]
    },
    {
      "cell_type": "code",
      "source": [
        "X,y = data_prep(text,20)\n",
        "X_train, X_val, y_train, y_val = train_test_split(X, y, test_size=0.2, random_state=42)\n",
        "X_train = torch.tensor(X_train, dtype=torch.long)\n",
        "y_train = torch.tensor(y_train, dtype=torch.long)\n",
        "X_val = torch.tensor(X_val, dtype=torch.long)\n",
        "y_val = torch.tensor(y_val, dtype=torch.long)\n",
        "model = CharLSTM(len(chars), hidden_size, len(chars))\n",
        "criterion = nn.CrossEntropyLoss()\n",
        "optimizer = optim.Adam(model.parameters(), lr=learning_rate)\n",
        "train_predict(20, model, X_train, y_train, X_val, y_val, criterion, optimizer)"
      ],
      "metadata": {
        "colab": {
          "base_uri": "https://localhost:8080/"
        },
        "id": "fUFn9gjyDIG_",
        "outputId": "9bd15a5d-0aaf-41c5-8ff4-fe17a58aa0e5"
      },
      "execution_count": 67,
      "outputs": [
        {
          "output_type": "stream",
          "name": "stdout",
          "text": [
            "Epoch 10, Loss: 2.580595016479492, Validation Loss: 2.5901732444763184, Validation Accuracy: 0.27484142780303955\n",
            "Epoch 20, Loss: 2.0984981060028076, Validation Loss: 2.2380692958831787, Validation Accuracy: 0.37420719861984253\n",
            "Epoch 30, Loss: 1.7170329093933105, Validation Loss: 2.0660481452941895, Validation Accuracy: 0.46088793873786926\n",
            "Epoch 40, Loss: 1.3710252046585083, Validation Loss: 1.9859275817871094, Validation Accuracy: 0.47991544008255005\n",
            "Epoch 50, Loss: 1.0598021745681763, Validation Loss: 1.9585126638412476, Validation Accuracy: 0.49894291162490845\n",
            "Epoch 60, Loss: 0.7794843316078186, Validation Loss: 1.9582222700119019, Validation Accuracy: 0.5052854418754578\n",
            "Epoch 70, Loss: 0.5625208616256714, Validation Loss: 2.0048282146453857, Validation Accuracy: 0.5010570883750916\n",
            "Epoch 80, Loss: 0.3785140812397003, Validation Loss: 2.0694587230682373, Validation Accuracy: 0.5073995590209961\n",
            "Epoch 90, Loss: 0.2504660487174988, Validation Loss: 2.1282618045806885, Validation Accuracy: 0.5179703831672668\n",
            "Epoch 100, Loss: 0.15540961921215057, Validation Loss: 2.2246549129486084, Validation Accuracy: 0.5158562660217285\n",
            "Execution Time: 21.3917453289032 seconds\n",
            "Total number of parameters in the model: 143404\n",
            "Predicted next character: 'c'\n"
          ]
        }
      ]
    },
    {
      "cell_type": "code",
      "source": [
        "X,y = data_prep(text,30)\n",
        "X_train, X_val, y_train, y_val = train_test_split(X, y, test_size=0.2, random_state=42)\n",
        "X_train = torch.tensor(X_train, dtype=torch.long)\n",
        "y_train = torch.tensor(y_train, dtype=torch.long)\n",
        "X_val = torch.tensor(X_val, dtype=torch.long)\n",
        "y_val = torch.tensor(y_val, dtype=torch.long)\n",
        "model = CharLSTM(len(chars), hidden_size, len(chars))\n",
        "criterion = nn.CrossEntropyLoss()\n",
        "optimizer = optim.Adam(model.parameters(), lr=learning_rate)\n",
        "train_predict(30, model, X_train, y_train, X_val, y_val, criterion, optimizer)"
      ],
      "metadata": {
        "colab": {
          "base_uri": "https://localhost:8080/"
        },
        "id": "_6lV0NaRDH72",
        "outputId": "37583d90-e705-4bde-bff6-e579fae1e0e9"
      },
      "execution_count": 68,
      "outputs": [
        {
          "output_type": "stream",
          "name": "stdout",
          "text": [
            "Epoch 10, Loss: 2.523730993270874, Validation Loss: 2.534489154815674, Validation Accuracy: 0.3290870487689972\n",
            "Epoch 20, Loss: 1.999192714691162, Validation Loss: 2.1675074100494385, Validation Accuracy: 0.4309978783130646\n",
            "Epoch 30, Loss: 1.5930274724960327, Validation Loss: 1.9806220531463623, Validation Accuracy: 0.47346073389053345\n",
            "Epoch 40, Loss: 1.243422031402588, Validation Loss: 1.8853580951690674, Validation Accuracy: 0.4883227050304413\n",
            "Epoch 50, Loss: 0.9304813146591187, Validation Loss: 1.8531309366226196, Validation Accuracy: 0.522292971611023\n",
            "Epoch 60, Loss: 0.6642557382583618, Validation Loss: 1.8930145502090454, Validation Accuracy: 0.5265392661094666\n",
            "Epoch 70, Loss: 0.4569658935070038, Validation Loss: 1.9564087390899658, Validation Accuracy: 0.5201698541641235\n",
            "Epoch 80, Loss: 0.3080301284790039, Validation Loss: 2.0687625408172607, Validation Accuracy: 0.5138004422187805\n",
            "Epoch 90, Loss: 0.1881590187549591, Validation Loss: 2.160766839981079, Validation Accuracy: 0.5095541477203369\n",
            "Epoch 100, Loss: 0.11758284270763397, Validation Loss: 2.260453701019287, Validation Accuracy: 0.5074309706687927\n",
            "Execution Time: 31.4859778881073 seconds\n",
            "Total number of parameters in the model: 143404\n",
            "Predicted next character: 'c'\n"
          ]
        }
      ]
    },
    {
      "cell_type": "markdown",
      "source": [
        "GRU"
      ],
      "metadata": {
        "id": "9aJFUvaL_8vz"
      }
    },
    {
      "cell_type": "code",
      "source": [
        "X,y = data_prep(text,10)\n",
        "X_train, X_val, y_train, y_val = train_test_split(X, y, test_size=0.2, random_state=42)\n",
        "X_train = torch.tensor(X_train, dtype=torch.long)\n",
        "y_train = torch.tensor(y_train, dtype=torch.long)\n",
        "X_val = torch.tensor(X_val, dtype=torch.long)\n",
        "y_val = torch.tensor(y_val, dtype=torch.long)\n",
        "model = CharGRU(len(chars), hidden_size, len(chars))\n",
        "criterion = nn.CrossEntropyLoss()\n",
        "optimizer = optim.Adam(model.parameters(), lr=learning_rate)\n",
        "train_predict(10, model, X_train, y_train, X_val, y_val, criterion, optimizer)"
      ],
      "metadata": {
        "colab": {
          "base_uri": "https://localhost:8080/"
        },
        "id": "YL2Ng_k5yYjO",
        "outputId": "2b96d0cc-b226-4f9b-a7d5-573cbaa5d048"
      },
      "execution_count": 69,
      "outputs": [
        {
          "output_type": "stream",
          "name": "stdout",
          "text": [
            "Epoch 10, Loss: 2.3642117977142334, Validation Loss: 2.332767963409424, Validation Accuracy: 0.35789474844932556\n",
            "Epoch 20, Loss: 1.8345539569854736, Validation Loss: 2.0403738021850586, Validation Accuracy: 0.4568420946598053\n",
            "Epoch 30, Loss: 1.4101696014404297, Validation Loss: 1.9075591564178467, Validation Accuracy: 0.4842105209827423\n",
            "Epoch 40, Loss: 1.0319633483886719, Validation Loss: 1.8884649276733398, Validation Accuracy: 0.5115789771080017\n",
            "Epoch 50, Loss: 0.7001526355743408, Validation Loss: 1.932285189628601, Validation Accuracy: 0.5199999809265137\n",
            "Epoch 60, Loss: 0.43291226029396057, Validation Loss: 2.0490849018096924, Validation Accuracy: 0.5284210443496704\n",
            "Epoch 70, Loss: 0.24625669419765472, Validation Loss: 2.201974630355835, Validation Accuracy: 0.5284210443496704\n",
            "Epoch 80, Loss: 0.13881012797355652, Validation Loss: 2.362474203109741, Validation Accuracy: 0.503157913684845\n",
            "Epoch 90, Loss: 0.08795884996652603, Validation Loss: 2.461801767349243, Validation Accuracy: 0.5052631497383118\n",
            "Epoch 100, Loss: 0.06625931710004807, Validation Loss: 2.56941819190979, Validation Accuracy: 0.5115789771080017\n",
            "Execution Time: 7.764278411865234 seconds\n",
            "Total number of parameters in the model: 110380\n",
            "Predicted next character: 'c'\n"
          ]
        }
      ]
    },
    {
      "cell_type": "code",
      "source": [
        "X,y = data_prep(text,20)\n",
        "X_train, X_val, y_train, y_val = train_test_split(X, y, test_size=0.2, random_state=42)\n",
        "X_train = torch.tensor(X_train, dtype=torch.long)\n",
        "y_train = torch.tensor(y_train, dtype=torch.long)\n",
        "X_val = torch.tensor(X_val, dtype=torch.long)\n",
        "y_val = torch.tensor(y_val, dtype=torch.long)\n",
        "model = CharGRU(len(chars), hidden_size, len(chars))\n",
        "criterion = nn.CrossEntropyLoss()\n",
        "optimizer = optim.Adam(model.parameters(), lr=learning_rate)\n",
        "train_predict(20, model, X_train, y_train, X_val, y_val, criterion, optimizer)"
      ],
      "metadata": {
        "colab": {
          "base_uri": "https://localhost:8080/"
        },
        "id": "DGcaHBzLydnm",
        "outputId": "54d08e43-bad3-4d9e-9783-613c71406a2c"
      },
      "execution_count": 70,
      "outputs": [
        {
          "output_type": "stream",
          "name": "stdout",
          "text": [
            "Epoch 10, Loss: 2.36944842338562, Validation Loss: 2.419921875, Validation Accuracy: 0.3657505214214325\n",
            "Epoch 20, Loss: 1.8605729341506958, Validation Loss: 2.0993142127990723, Validation Accuracy: 0.4503171145915985\n",
            "Epoch 30, Loss: 1.4364513158798218, Validation Loss: 1.9359318017959595, Validation Accuracy: 0.4904862642288208\n",
            "Epoch 40, Loss: 1.070433497428894, Validation Loss: 1.9066226482391357, Validation Accuracy: 0.49894291162490845\n",
            "Epoch 50, Loss: 0.757244884967804, Validation Loss: 1.9389744997024536, Validation Accuracy: 0.5073995590209961\n",
            "Epoch 60, Loss: 0.4926791787147522, Validation Loss: 2.0044991970062256, Validation Accuracy: 0.49894291162490845\n",
            "Epoch 70, Loss: 0.29585525393486023, Validation Loss: 2.127021551132202, Validation Accuracy: 0.5264270901679993\n",
            "Epoch 80, Loss: 0.16563060879707336, Validation Loss: 2.2678167819976807, Validation Accuracy: 0.5243129134178162\n",
            "Epoch 90, Loss: 0.09210468828678131, Validation Loss: 2.404038429260254, Validation Accuracy: 0.5158562660217285\n",
            "Epoch 100, Loss: 0.05477547273039818, Validation Loss: 2.5112524032592773, Validation Accuracy: 0.5137420892715454\n",
            "Execution Time: 16.13053250312805 seconds\n",
            "Total number of parameters in the model: 110380\n",
            "Predicted next character: 'c'\n"
          ]
        }
      ]
    },
    {
      "cell_type": "code",
      "source": [
        "X,y = data_prep(text,30)\n",
        "X_train, X_val, y_train, y_val = train_test_split(X, y, test_size=0.2, random_state=42)\n",
        "X_train = torch.tensor(X_train, dtype=torch.long)\n",
        "y_train = torch.tensor(y_train, dtype=torch.long)\n",
        "X_val = torch.tensor(X_val, dtype=torch.long)\n",
        "y_val = torch.tensor(y_val, dtype=torch.long)\n",
        "model = CharGRU(len(chars), hidden_size, len(chars))\n",
        "criterion = nn.CrossEntropyLoss()\n",
        "optimizer = optim.Adam(model.parameters(), lr=learning_rate)\n",
        "train_predict(30, model, X_train, y_train, X_val, y_val, criterion, optimizer)"
      ],
      "metadata": {
        "colab": {
          "base_uri": "https://localhost:8080/"
        },
        "id": "AlI5-3I3DeMK",
        "outputId": "bc8b334f-4d80-49ed-bb7b-358062080d2c"
      },
      "execution_count": 71,
      "outputs": [
        {
          "output_type": "stream",
          "name": "stdout",
          "text": [
            "Epoch 10, Loss: 2.4109528064727783, Validation Loss: 2.4689695835113525, Validation Accuracy: 0.31847134232521057\n",
            "Epoch 20, Loss: 1.912304401397705, Validation Loss: 2.116098642349243, Validation Accuracy: 0.4416135847568512\n",
            "Epoch 30, Loss: 1.4939008951187134, Validation Loss: 1.946638584136963, Validation Accuracy: 0.47983014583587646\n",
            "Epoch 40, Loss: 1.1152342557907104, Validation Loss: 1.8469924926757812, Validation Accuracy: 0.4989384412765503\n",
            "Epoch 50, Loss: 0.7743898034095764, Validation Loss: 1.8338068723678589, Validation Accuracy: 0.5414012670516968\n",
            "Epoch 60, Loss: 0.4930489957332611, Validation Loss: 1.900964617729187, Validation Accuracy: 0.5371549725532532\n",
            "Epoch 70, Loss: 0.28927695751190186, Validation Loss: 2.014709711074829, Validation Accuracy: 0.5456475615501404\n",
            "Epoch 80, Loss: 0.15813224017620087, Validation Loss: 2.1540980339050293, Validation Accuracy: 0.5456475615501404\n",
            "Epoch 90, Loss: 0.0870116800069809, Validation Loss: 2.2440338134765625, Validation Accuracy: 0.5520169734954834\n",
            "Epoch 100, Loss: 0.05372507497668266, Validation Loss: 2.3387868404388428, Validation Accuracy: 0.556263267993927\n",
            "Execution Time: 23.753838300704956 seconds\n",
            "Total number of parameters in the model: 110380\n",
            "Predicted next character: 'c'\n"
          ]
        }
      ]
    },
    {
      "cell_type": "markdown",
      "source": [
        "Problem 2"
      ],
      "metadata": {
        "id": "yC4b9KXpDrHO"
      }
    },
    {
      "cell_type": "code",
      "source": [
        "from torch.utils.data import DataLoader, Dataset, random_split\n",
        "import os\n",
        "import sys\n",
        "import requests"
      ],
      "metadata": {
        "id": "XMloA6ir6wVo"
      },
      "execution_count": 72,
      "outputs": []
    },
    {
      "cell_type": "code",
      "source": [
        "# Step 1: Download the dataset\n",
        "url = \"https://raw.githubusercontent.com/karpathy/char-rnn/master/data/tinyshakespeare/input.txt\"\n",
        "response = requests.get(url)\n",
        "text = response.text  # This is the entire text data"
      ],
      "metadata": {
        "id": "TGjT7GMS60tO"
      },
      "execution_count": 73,
      "outputs": []
    },
    {
      "cell_type": "code",
      "source": [
        "# Step 2: Prepare the dataset\n",
        "sequence_length = 20\n",
        "# Create a character mapping to integers\n",
        "chars = sorted(list(set(text)))\n",
        "char_to_int = {ch: i for i, ch in enumerate(chars)}\n",
        "int_to_char = {i: ch for i, ch in enumerate(chars)}\n"
      ],
      "metadata": {
        "id": "LTP5cl2XGWiX"
      },
      "execution_count": 74,
      "outputs": []
    },
    {
      "cell_type": "code",
      "source": [
        "# Encode the text into integers\n",
        "encoded_text = [char_to_int[ch] for ch in text]\n"
      ],
      "metadata": {
        "id": "k5dzgzX8GeG8"
      },
      "execution_count": 75,
      "outputs": []
    },
    {
      "cell_type": "code",
      "source": [
        "# Create sequences and targets\n",
        "sequences = []\n",
        "targets = []\n",
        "for i in range(0, len(encoded_text) - sequence_length):\n",
        "    seq = encoded_text[i:i+sequence_length]\n",
        "    target = encoded_text[i+sequence_length]\n",
        "    sequences.append(seq)\n",
        "    targets.append(target)\n",
        "\n",
        "# Convert lists to PyTorch tensors\n",
        "sequences = torch.tensor(sequences, dtype=torch.long)\n",
        "targets = torch.tensor(targets, dtype=torch.long)\n"
      ],
      "metadata": {
        "id": "HrQd5tHtGkUk"
      },
      "execution_count": 76,
      "outputs": []
    },
    {
      "cell_type": "code",
      "source": [
        "# Step 3: Create a dataset class\n",
        "class CharDataset(Dataset):\n",
        "    def __init__(self, sequences, targets):\n",
        "        self.sequences = sequences\n",
        "        self.targets = targets\n",
        "\n",
        "    def __len__(self):\n",
        "        return len(self.sequences)\n",
        "\n",
        "    def __getitem__(self, index):\n",
        "        return self.sequences[index], self.targets[index]"
      ],
      "metadata": {
        "id": "cHSm9I5MGmX7"
      },
      "execution_count": 77,
      "outputs": []
    },
    {
      "cell_type": "code",
      "source": [
        "# Split the dataset into training and testing sets\n",
        "dataset = CharDataset(sequences, targets)\n",
        "train_size = int(len(dataset) * 0.8)\n",
        "test_size = len(dataset) - train_size\n",
        "train_dataset, test_dataset = random_split(dataset, [train_size, test_size])\n"
      ],
      "metadata": {
        "id": "aBZqsySfGpFq"
      },
      "execution_count": 78,
      "outputs": []
    },
    {
      "cell_type": "code",
      "source": [
        "# Create data loaders\n",
        "batch_size = 128\n",
        "train_loader = DataLoader(train_dataset, shuffle=True, batch_size=batch_size)\n",
        "test_loader = DataLoader(test_dataset, shuffle=False, batch_size=batch_size)\n"
      ],
      "metadata": {
        "id": "4ni5aCL3lMVQ"
      },
      "execution_count": 79,
      "outputs": []
    },
    {
      "cell_type": "code",
      "source": [
        "# Define the LSTM model\n",
        "class LSTMModel(nn.Module):\n",
        "    def __init__(self, input_size, hidden_size, output_size):\n",
        "        super(LSTMModel, self).__init__()\n",
        "        self.hidden_size = hidden_size\n",
        "        self.embedding = nn.Embedding(input_size, hidden_size)\n",
        "        self.lstm = nn.LSTM(hidden_size, hidden_size, batch_first=True)\n",
        "        self.fc = nn.Linear(hidden_size, output_size)\n",
        "\n",
        "    def forward(self, x):\n",
        "        embedded = self.embedding(x)\n",
        "        output, _ = self.lstm(embedded)\n",
        "        output = self.fc(output[:, -1, :])\n",
        "        return output"
      ],
      "metadata": {
        "id": "BooS7pB8lPEd"
      },
      "execution_count": 80,
      "outputs": []
    },
    {
      "cell_type": "code",
      "source": [
        "# Define the GRU model\n",
        "class GRUModel(nn.Module):\n",
        "    def __init__(self, input_size, hidden_size, output_size):\n",
        "        super(GRUModel, self).__init__()\n",
        "        self.hidden_size = hidden_size\n",
        "        self.embedding = nn.Embedding(input_size, hidden_size)\n",
        "        self.gru = nn.GRU(hidden_size, hidden_size, batch_first=True)\n",
        "        self.fc = nn.Linear(hidden_size, output_size)\n",
        "\n",
        "    def forward(self, x):\n",
        "        embedded = self.embedding(x)\n",
        "        output, _ = self.gru(embedded)\n",
        "        output = self.fc(output[:, -1, :])\n",
        "        return output"
      ],
      "metadata": {
        "id": "5Le74Vt2lReU"
      },
      "execution_count": 81,
      "outputs": []
    },
    {
      "cell_type": "code",
      "source": [
        "# Train the model with validation loss, model size, number of parameters, and inference time\n",
        "def training_the_model(model, train_loader, test_loader, device, num_epochs=10, lr=0.005):\n",
        "    criterion = nn.CrossEntropyLoss()\n",
        "    optimizer = optim.Adam(model.parameters(), lr=lr)\n",
        "    model.to(device)\n",
        "    start_time = time.time()\n",
        "\n",
        "    # Calculate the number of trainable parameters\n",
        "    num_params = sum(p.numel() for p in model.parameters() if p.requires_grad)\n",
        "    print(f'Number of trainable parameters: {num_params}')\n",
        "\n",
        "    for epoch in range(num_epochs):\n",
        "        model.train()\n",
        "        train_loss = 0\n",
        "        for inputs, targets in train_loader:\n",
        "            inputs, targets = inputs.to(device), targets.to(device)\n",
        "            optimizer.zero_grad()\n",
        "            outputs = model(inputs)\n",
        "            loss = criterion(outputs, targets)\n",
        "            loss.backward()\n",
        "            optimizer.step()\n",
        "            train_loss += loss.item()\n",
        "\n",
        "        model.eval()\n",
        "        correct = 0\n",
        "        total = 0\n",
        "        test_loss = 0\n",
        "        inference_start_time = time.time()\n",
        "        with torch.no_grad():\n",
        "            for inputs, targets in test_loader:\n",
        "                inputs, targets = inputs.to(device), targets.to(device)\n",
        "                outputs = model(inputs)\n",
        "                loss = criterion(outputs, targets)\n",
        "                test_loss += loss.item()\n",
        "                _, predicted = torch.max(outputs.data, 1)\n",
        "                total += targets.size(0)\n",
        "                correct += (predicted == targets).sum().item()\n",
        "        inference_end_time = time.time()\n",
        "        inference_time = inference_end_time - inference_start_time\n",
        "\n",
        "        print(f'Epoch {epoch+1}/{num_epochs}, Train Loss: {train_loss/len(train_loader)}, Test Loss: {test_loss/len(test_loader)}, Test Accuracy: {100 * correct / total}%, Inference Time: {inference_time} seconds')\n",
        "\n",
        "    end_time = time.time()\n",
        "    print(f'Total Training Time: {end_time - start_time} seconds')\n",
        "\n",
        "    # Calculate model size\n",
        "    model_size = sys.getsizeof(model.state_dict())\n",
        "    print(f'Model Size: {model_size} bytes')\n",
        "\n",
        "\n",
        "\n"
      ],
      "metadata": {
        "id": "G41Jt86FlTce"
      },
      "execution_count": 95,
      "outputs": []
    },
    {
      "cell_type": "code",
      "source": [
        "# Set device\n",
        "device = torch.device(\"cuda\" if torch.cuda.is_available() else \"cpu\")\n",
        "model.to(device)\n",
        "\n",
        "\n",
        "# Initialize and train the LSTM model\n",
        "input_size = len(chars)\n",
        "hidden_size = 256\n",
        "output_size = len(chars)\n",
        "num_epochs = 10\n",
        "\n",
        "\n",
        "print(\"LSTM model\\n\")\n",
        "lstm_model = LSTMModel(input_size, hidden_size, output_size)\n",
        "training_the_model(lstm_model, train_loader, test_loader, device, num_epochs)\n",
        "total_params = sum(p.numel() for p in model.parameters())\n",
        "print(f'Total number of parameters in the model: {total_params}')\n",
        "def predict_next_char(model, char_to_ix, ix_to_char, initial_str, max_length):\n",
        "  model.eval()\n",
        "  with torch.no_grad():\n",
        "        initial_input = torch.tensor([char_to_ix[c] for c in initial_str[-max_length:]], dtype=torch.long).unsqueeze(0).to(device)\n",
        "        prediction = model(initial_input)\n",
        "        predicted_index = torch.argmax(prediction, dim=1).item()\n",
        "        return ix_to_char[predicted_index]\n",
        "test_str = \"Predicting the next charac\"\n",
        "predicted_char = predict_next_char(model, char_to_ix, ix_to_char, test_str, 20)\n",
        "print(f\"Predicted next character: '{predicted_char}'\")\n"
      ],
      "metadata": {
        "colab": {
          "base_uri": "https://localhost:8080/"
        },
        "id": "uDzMBZLpwcwV",
        "outputId": "cf02da92-acfa-4e77-f734-f8888eb1714c"
      },
      "execution_count": 96,
      "outputs": [
        {
          "output_type": "stream",
          "name": "stdout",
          "text": [
            "LSTM model\n",
            "\n",
            "Number of trainable parameters: 559681\n",
            "Epoch 1/10, Train Loss: 1.7492508147717616, Test Loss: 1.6320871364365894, Test Accuracy: 50.87974896335313%, Inference Time: 3.149263620376587 seconds\n",
            "Epoch 2/10, Train Loss: 1.5960567029672865, Test Loss: 1.58417079398089, Test Accuracy: 52.21741566737644%, Inference Time: 3.155841588973999 seconds\n",
            "Epoch 3/10, Train Loss: 1.5626432999788997, Test Loss: 1.5601552428695844, Test Accuracy: 52.52134932197691%, Inference Time: 3.2809362411499023 seconds\n",
            "Epoch 4/10, Train Loss: 1.5479863630036, Test Loss: 1.5603582493819796, Test Accuracy: 53.05525047629721%, Inference Time: 3.0869362354278564 seconds\n",
            "Epoch 5/10, Train Loss: 1.5432339702709885, Test Loss: 1.5623937219432626, Test Accuracy: 52.666591953378905%, Inference Time: 3.1956615447998047 seconds\n",
            "Epoch 6/10, Train Loss: 1.54182028958528, Test Loss: 1.5611906047532151, Test Accuracy: 52.79121371735963%, Inference Time: 3.062225103378296 seconds\n",
            "Epoch 7/10, Train Loss: 1.5437335318282495, Test Loss: 1.5649406260207543, Test Accuracy: 52.83335201165527%, Inference Time: 3.137160301208496 seconds\n",
            "Epoch 8/10, Train Loss: 1.5461533194770092, Test Loss: 1.5628181353288346, Test Accuracy: 52.94766334192536%, Inference Time: 3.216341018676758 seconds\n",
            "Epoch 9/10, Train Loss: 1.553033677227389, Test Loss: 1.571804973289875, Test Accuracy: 52.38641712428556%, Inference Time: 3.253619432449341 seconds\n",
            "Epoch 10/10, Train Loss: 1.5552173463079482, Test Loss: 1.5738376798263174, Test Accuracy: 52.392693040457246%, Inference Time: 3.0900321006774902 seconds\n",
            "Total Training Time: 266.5874593257904 seconds\n",
            "Model Size: 776 bytes\n",
            "Total number of parameters in the model: 110380\n",
            "Predicted next character: 't'\n"
          ]
        }
      ]
    },
    {
      "cell_type": "code",
      "source": [
        "# Initialize and train the GRU model\n",
        "input_size = len(chars)\n",
        "hidden_size = 256\n",
        "output_size = len(chars)\n",
        "num_epochs = 10\n",
        "\n",
        "print(\"GRU model\")\n",
        "gru_model = GRUModel(input_size, hidden_size, output_size)\n",
        "training_the_model(gru_model, train_loader, test_loader, device, num_epochs)\n",
        "total_params = sum(p.numel() for p in model.parameters())\n",
        "print(f'Total number of parameters in the model: {total_params}')\n",
        "def predict_next_char(model, char_to_ix, ix_to_char, initial_str, max_length):\n",
        "  model.eval()\n",
        "  with torch.no_grad():\n",
        "        initial_input = torch.tensor([char_to_ix[c] for c in initial_str[-max_length:]], dtype=torch.long).unsqueeze(0).to(device)\n",
        "        prediction = model(initial_input)\n",
        "        predicted_index = torch.argmax(prediction, dim=1).item()\n",
        "        return ix_to_char[predicted_index]\n",
        "test_str = \"Predicting the next charac\"\n",
        "predicted_char = predict_next_char(model, char_to_ix, ix_to_char, test_str, 20)\n",
        "print(f\"Predicted next character: '{predicted_char}'\")"
      ],
      "metadata": {
        "colab": {
          "base_uri": "https://localhost:8080/"
        },
        "id": "fFQuPdLPwhCg",
        "outputId": "82ab81cf-7a31-4c21-f43f-f6150f7ea804"
      },
      "execution_count": 97,
      "outputs": [
        {
          "output_type": "stream",
          "name": "stdout",
          "text": [
            "GRU model\n",
            "Number of trainable parameters: 428097\n",
            "Epoch 1/10, Train Loss: 1.9378979510434797, Test Loss: 1.875877156451866, Test Accuracy: 45.32152863386753%, Inference Time: 2.9833340644836426 seconds\n",
            "Epoch 2/10, Train Loss: 1.870591915994284, Test Loss: 1.8600143310466992, Test Accuracy: 45.48156449624566%, Inference Time: 2.9664306640625 seconds\n",
            "Epoch 3/10, Train Loss: 1.8703911815712797, Test Loss: 1.8835771656966525, Test Accuracy: 44.421382942956406%, Inference Time: 2.884946346282959 seconds\n",
            "Epoch 4/10, Train Loss: 1.8734315595302646, Test Loss: 1.8881918068118158, Test Accuracy: 45.81284321416564%, Inference Time: 2.960973024368286 seconds\n",
            "Epoch 5/10, Train Loss: 1.873045964909229, Test Loss: 1.892664955323001, Test Accuracy: 44.72352347865068%, Inference Time: 3.1064460277557373 seconds\n",
            "Epoch 6/10, Train Loss: 1.8806457141488022, Test Loss: 1.8953932055918157, Test Accuracy: 45.90518883783481%, Inference Time: 2.9347944259643555 seconds\n",
            "Epoch 7/10, Train Loss: 1.884694065571652, Test Loss: 1.9079521807595634, Test Accuracy: 44.905076767903175%, Inference Time: 3.076807737350464 seconds\n",
            "Epoch 8/10, Train Loss: 1.881213065850208, Test Loss: 1.898257638692719, Test Accuracy: 45.06914714782024%, Inference Time: 3.032463788986206 seconds\n",
            "Epoch 9/10, Train Loss: 1.885351451781722, Test Loss: 1.898597538710598, Test Accuracy: 44.85307631962345%, Inference Time: 2.9825685024261475 seconds\n",
            "Epoch 10/10, Train Loss: 1.8837237066909354, Test Loss: 1.9088335367570441, Test Accuracy: 44.905076767903175%, Inference Time: 3.0841727256774902 seconds\n",
            "Total Training Time: 258.1434760093689 seconds\n",
            "Model Size: 776 bytes\n",
            "Total number of parameters in the model: 110380\n",
            "Predicted next character: 't'\n"
          ]
        }
      ]
    },
    {
      "cell_type": "code",
      "source": [
        "# Set device\n",
        "device = torch.device(\"cuda\" if torch.cuda.is_available() else \"cpu\")\n",
        "model.to(device)\n",
        "\n",
        "\n",
        "# Initialize and train the LSTM model\n",
        "input_size = len(chars)\n",
        "hidden_size = 128\n",
        "output_size = len(chars)\n",
        "num_epochs = 10\n",
        "\n",
        "\n",
        "print(\"LSTM model\\n\")\n",
        "lstm_model = LSTMModel(input_size, hidden_size, output_size)\n",
        "training_the_model(lstm_model, train_loader, test_loader, device, num_epochs)\n",
        "total_params = sum(p.numel() for p in model.parameters())\n",
        "print(f'Total number of parameters in the model: {total_params}')\n",
        "def predict_next_char(model, char_to_ix, ix_to_char, initial_str, max_length):\n",
        "  model.eval()\n",
        "  with torch.no_grad():\n",
        "        initial_input = torch.tensor([char_to_ix[c] for c in initial_str[-max_length:]], dtype=torch.long).unsqueeze(0).to(device)\n",
        "        prediction = model(initial_input)\n",
        "        predicted_index = torch.argmax(prediction, dim=1).item()\n",
        "        return ix_to_char[predicted_index]\n",
        "test_str = \"Predicting the next charac\"\n",
        "predicted_char = predict_next_char(model, char_to_ix, ix_to_char, test_str, 20)\n",
        "print(f\"Predicted next character: '{predicted_char}'\")\n"
      ],
      "metadata": {
        "colab": {
          "base_uri": "https://localhost:8080/"
        },
        "id": "YUPYfiYRwpJl",
        "outputId": "0fe27d0b-4b9e-4e40-f998-afa9672736c8"
      },
      "execution_count": 98,
      "outputs": [
        {
          "output_type": "stream",
          "name": "stdout",
          "text": [
            "LSTM model\n",
            "\n",
            "Number of trainable parameters: 148801\n",
            "Epoch 1/10, Train Loss: 1.7611486668806957, Test Loss: 1.632340795201812, Test Accuracy: 51.13526840748627%, Inference Time: 2.8939156532287598 seconds\n",
            "Epoch 2/10, Train Loss: 1.600569605280186, Test Loss: 1.5871434353988745, Test Accuracy: 52.16676005827637%, Inference Time: 2.6885955333709717 seconds\n",
            "Epoch 3/10, Train Loss: 1.5619404294917587, Test Loss: 1.5655481687442914, Test Accuracy: 52.797937913257876%, Inference Time: 2.6538703441619873 seconds\n",
            "Epoch 4/10, Train Loss: 1.544314362164277, Test Loss: 1.5523552480129694, Test Accuracy: 53.071836826179535%, Inference Time: 2.730309009552002 seconds\n",
            "Epoch 5/10, Train Loss: 1.5379988995695415, Test Loss: 1.550775783265793, Test Accuracy: 52.79345511599238%, Inference Time: 2.633871078491211 seconds\n",
            "Epoch 6/10, Train Loss: 1.537706696398971, Test Loss: 1.5481824621139282, Test Accuracy: 53.24845903843999%, Inference Time: 2.619330644607544 seconds\n",
            "Epoch 7/10, Train Loss: 1.5358105308867294, Test Loss: 1.5522159369458293, Test Accuracy: 53.1641824498487%, Inference Time: 2.803476572036743 seconds\n",
            "Epoch 8/10, Train Loss: 1.534538454422647, Test Loss: 1.5506700721884075, Test Accuracy: 53.08438865852292%, Inference Time: 2.7236487865448 seconds\n",
            "Epoch 9/10, Train Loss: 1.5365871544617453, Test Loss: 1.5618545379162656, Test Accuracy: 52.76879973103216%, Inference Time: 2.628638982772827 seconds\n",
            "Epoch 10/10, Train Loss: 1.5426467480634862, Test Loss: 1.555285885083696, Test Accuracy: 52.838731368373864%, Inference Time: 2.6289563179016113 seconds\n",
            "Total Training Time: 223.63416123390198 seconds\n",
            "Model Size: 776 bytes\n",
            "Total number of parameters in the model: 110380\n",
            "Predicted next character: 't'\n"
          ]
        }
      ]
    },
    {
      "cell_type": "code",
      "source": [
        "# Initialize and train the GRU model\n",
        "input_size = len(chars)\n",
        "hidden_size = 128\n",
        "output_size = len(chars)\n",
        "num_epochs = 10\n",
        "\n",
        "print(\"GRU model\")\n",
        "gru_model = GRUModel(input_size, hidden_size, output_size)\n",
        "training_the_model(gru_model, train_loader, test_loader, device, num_epochs)\n",
        "total_params = sum(p.numel() for p in model.parameters())\n",
        "print(f'Total number of parameters in the model: {total_params}')\n",
        "def predict_next_char(model, char_to_ix, ix_to_char, initial_str, max_length):\n",
        "  model.eval()\n",
        "  with torch.no_grad():\n",
        "        initial_input = torch.tensor([char_to_ix[c] for c in initial_str[-max_length:]], dtype=torch.long).unsqueeze(0).to(device)\n",
        "        prediction = model(initial_input)\n",
        "        predicted_index = torch.argmax(prediction, dim=1).item()\n",
        "        return ix_to_char[predicted_index]\n",
        "test_str = \"Predicting the next charac\"\n",
        "predicted_char = predict_next_char(model, char_to_ix, ix_to_char, test_str, 20)\n",
        "print(f\"Predicted next character: '{predicted_char}'\")"
      ],
      "metadata": {
        "colab": {
          "base_uri": "https://localhost:8080/"
        },
        "id": "wIt7uelewtsA",
        "outputId": "16d9e93e-c94a-4924-cd8b-d1efd3d3f56d"
      },
      "execution_count": 106,
      "outputs": [
        {
          "output_type": "stream",
          "name": "stdout",
          "text": [
            "GRU model\n",
            "Number of trainable parameters: 115777\n",
            "Epoch 1/10, Train Loss: 1.8405554874731218, Test Loss: 1.7699469565934856, Test Accuracy: 47.74221891488437%, Inference Time: 2.754101514816284 seconds\n",
            "Epoch 2/10, Train Loss: 1.7557297082242784, Test Loss: 1.7654796948189442, Test Accuracy: 47.61983745231382%, Inference Time: 2.535686731338501 seconds\n",
            "Epoch 3/10, Train Loss: 1.7640669728344498, Test Loss: 1.7719145777303462, Test Accuracy: 47.627009992244695%, Inference Time: 2.7631144523620605 seconds\n",
            "Epoch 4/10, Train Loss: 1.7709557248543408, Test Loss: 1.7699107383765234, Test Accuracy: 47.98025758384027%, Inference Time: 2.803239583969116 seconds\n",
            "Epoch 5/10, Train Loss: 1.775127562960878, Test Loss: 1.7911810752515196, Test Accuracy: 47.517628758298855%, Inference Time: 2.7452948093414307 seconds\n",
            "Epoch 6/10, Train Loss: 1.7947750459678955, Test Loss: 1.815902423393569, Test Accuracy: 46.573991473643154%, Inference Time: 2.642761707305908 seconds\n",
            "Epoch 7/10, Train Loss: 1.8068031687300163, Test Loss: 1.82133245324514, Test Accuracy: 45.51604183383915%, Inference Time: 2.513993263244629 seconds\n",
            "Epoch 8/10, Train Loss: 1.8160514919941138, Test Loss: 1.8341345473807635, Test Accuracy: 46.234192394417974%, Inference Time: 2.757453680038452 seconds\n",
            "Epoch 9/10, Train Loss: 1.8354878525452167, Test Loss: 1.834150686595061, Test Accuracy: 46.14274251029932%, Inference Time: 2.5848610401153564 seconds\n",
            "Epoch 10/10, Train Loss: 1.8284100678482755, Test Loss: 1.834616023305498, Test Accuracy: 46.29202099761065%, Inference Time: 2.7377066612243652 seconds\n",
            "Total Training Time: 236.18803787231445 seconds\n",
            "Model Size: 776 bytes\n",
            "Total number of parameters in the model: 110380\n",
            "Predicted next character: 't'\n"
          ]
        }
      ]
    },
    {
      "cell_type": "code",
      "source": [
        "# Prepare the dataset with sequence length 30\n",
        "sequence_length = 30\n",
        "chars = sorted(list(set(text)))\n",
        "char_to_int = {ch: i for i, ch in enumerate(chars)}\n",
        "int_to_char = {i: ch for i, ch in enumerate(chars)}\n",
        "encoded_text = [char_to_int[ch] for ch in text]\n",
        "\n",
        "sequences = []\n",
        "targets = []\n",
        "for i in range(0, len(encoded_text) - sequence_length):\n",
        "    seq = encoded_text[i:i+sequence_length]\n",
        "    target = encoded_text[i+sequence_length]\n",
        "    sequences.append(seq)\n",
        "    targets.append(target)\n",
        "\n",
        "sequences = torch.tensor(sequences, dtype=torch.long)\n",
        "targets = torch.tensor(targets, dtype=torch.long)\n",
        "\n",
        "# Define the dataset class\n",
        "class CharDataset(Dataset):\n",
        "    def __init__(self, sequences, targets):\n",
        "        self.sequences = sequences\n",
        "        self.targets = targets\n",
        "\n",
        "    def __len__(self):\n",
        "        return len(self.sequences)\n",
        "\n",
        "    def __getitem__(self, index):\n",
        "        return self.sequences[index], self.targets[index]\n",
        "\n",
        "# Split the dataset into training and testing sets\n",
        "dataset = CharDataset(sequences, targets)\n",
        "train_size = int(len(dataset) * 0.8)\n",
        "test_size = len(dataset) - train_size\n",
        "train_dataset, test_dataset = random_split(dataset, [train_size, test_size])\n",
        "\n",
        "# Create data loaders\n",
        "batch_size = 128\n",
        "train_loader = DataLoader(train_dataset, shuffle=True, batch_size=batch_size)\n",
        "test_loader = DataLoader(test_dataset, shuffle=False, batch_size=batch_size)"
      ],
      "metadata": {
        "id": "TmK9nkAMr_xY"
      },
      "execution_count": 107,
      "outputs": []
    },
    {
      "cell_type": "code",
      "source": [
        "def training_the_model(model, train_loader, test_loader, device, num_epochs=10, lr=0.001):\n",
        "    criterion = nn.CrossEntropyLoss()\n",
        "    optimizer = optim.Adam(model.parameters(), lr=lr)\n",
        "    model.to(device)\n",
        "    start_time = time.time()\n",
        "\n",
        "    train_losses = []\n",
        "    val_losses = []\n",
        "    val_accuracies = []\n",
        "\n",
        "    for epoch in range(num_epochs):\n",
        "        model.train()\n",
        "        train_loss = 0\n",
        "        for inputs, targets in train_loader:\n",
        "            inputs, targets = inputs.to(device), targets.to(device)\n",
        "            optimizer.zero_grad()\n",
        "            outputs = model(inputs)\n",
        "            loss = criterion(outputs, targets)\n",
        "            loss.backward()\n",
        "            optimizer.step()\n",
        "            train_loss += loss.item()\n",
        "        train_losses.append(train_loss / len(train_loader))\n",
        "\n",
        "        model.eval()\n",
        "        val_loss = 0\n",
        "        correct = 0\n",
        "        total = 0\n",
        "        with torch.no_grad():\n",
        "            for inputs, targets in test_loader:\n",
        "                inputs, targets = inputs.to(device), targets.to(device)\n",
        "                outputs = model(inputs)\n",
        "                loss = criterion(outputs, targets)\n",
        "                val_loss += loss.item()\n",
        "                _, predicted = torch.max(outputs.data, 1)\n",
        "                total += targets.size(0)\n",
        "                correct += (predicted == targets).sum().item()\n",
        "        val_losses.append(val_loss / len(test_loader))\n",
        "        val_accuracies.append(100 * correct / total)\n",
        "\n",
        "        print(f'Epoch {epoch+1}/{num_epochs}, Train Loss: {train_losses[-1]}, Val Loss: {val_losses[-1]}, Val Accuracy: {val_accuracies[-1]}%')\n",
        "\n",
        "    end_time = time.time()\n",
        "    training_time = end_time - start_time\n",
        "    print(f'Training time: {training_time} seconds')\n",
        "    return train_losses, val_losses, val_accuracies, training_time, sum(p.numel() for p in model.parameters() if p.requires_grad)\n"
      ],
      "metadata": {
        "id": "VHz3qWaKbnbZ"
      },
      "execution_count": 124,
      "outputs": []
    },
    {
      "cell_type": "code",
      "source": [
        "# Set device\n",
        "device = torch.device(\"cuda\" if torch.cuda.is_available() else \"cpu\")\n",
        "model.to(device)\n",
        "\n",
        "\n",
        "# Initialize and train the LSTM model\n",
        "input_size = len(chars)\n",
        "hidden_size = 128\n",
        "output_size = len(chars)\n",
        "num_epochs = 10\n",
        "\n",
        "\n",
        "print(\"LSTM model\\n\")\n",
        "lstm_model = LSTMModel(input_size, hidden_size, output_size)\n",
        "lstm_train_losses, lstm_val_losses, lstm_val_accuracy, lstm_training_time, lstm_model_size = training_the_model(lstm_model, train_loader, test_loader, device, num_epochs)\n",
        "total_params = sum(p.numel() for p in model.parameters())\n",
        "print(f'Total number of parameters in the model: {total_params}')\n",
        "def predict_next_char(model, char_to_ix, ix_to_char, initial_str, max_length):\n",
        "  model.eval()\n",
        "  with torch.no_grad():\n",
        "        initial_input = torch.tensor([char_to_ix[c] for c in initial_str[-max_length:]], dtype=torch.long).unsqueeze(0).to(device)\n",
        "        prediction = model(initial_input)\n",
        "        predicted_index = torch.argmax(prediction, dim=1).item()\n",
        "        return ix_to_char[predicted_index]\n",
        "test_str = \"Predicting the next charac\"\n",
        "predicted_char = predict_next_char(model, char_to_ix, ix_to_char, test_str, 30)\n",
        "print(f\"Predicted next character: '{predicted_char}'\")"
      ],
      "metadata": {
        "colab": {
          "base_uri": "https://localhost:8080/"
        },
        "id": "I1rVRXYKxBui",
        "outputId": "3315556d-7af0-487b-ed09-60f8b4a888a6"
      },
      "execution_count": 125,
      "outputs": [
        {
          "output_type": "stream",
          "name": "stdout",
          "text": [
            "LSTM model\n",
            "\n",
            "Epoch 1/10, Train Loss: 1.838152635665167, Val Loss: 1.635293082129456, Val Accuracy: 51.34910993262295%\n",
            "Epoch 2/10, Train Loss: 1.5752492761960744, Val Loss: 1.546041282784029, Val Accuracy: 53.546148570198994%\n",
            "Epoch 3/10, Train Loss: 1.5059746511695171, Val Loss: 1.4997471655092223, Val Accuracy: 54.75248012982297%\n",
            "Epoch 4/10, Train Loss: 1.46812657144175, Val Loss: 1.4741209023175263, Val Accuracy: 55.31866250061639%\n",
            "Epoch 5/10, Train Loss: 1.4427513185967609, Val Loss: 1.4580057390243653, Val Accuracy: 55.738256086572555%\n",
            "Epoch 6/10, Train Loss: 1.4244118255578575, Val Loss: 1.4460872810802032, Val Accuracy: 56.124676675348425%\n",
            "Epoch 7/10, Train Loss: 1.4095939435599114, Val Loss: 1.4403169112717087, Val Accuracy: 56.04981328981992%\n",
            "Epoch 8/10, Train Loss: 1.3983366969872397, Val Loss: 1.4331536470168087, Val Accuracy: 56.37795699165744%\n",
            "Epoch 9/10, Train Loss: 1.3882147763747288, Val Loss: 1.4207312686649876, Val Accuracy: 56.82086133238895%\n",
            "Epoch 10/10, Train Loss: 1.3798802079685242, Val Loss: 1.4181153937379176, Val Accuracy: 56.84193066843589%\n",
            "Training time: 241.99739480018616 seconds\n",
            "Total number of parameters in the model: 110380\n",
            "Predicted next character: 't'\n"
          ]
        }
      ]
    },
    {
      "cell_type": "code",
      "source": [
        "# Initialize and train the GRU model\n",
        "input_size = len(chars)\n",
        "hidden_size = 128\n",
        "output_size = len(chars)\n",
        "num_epochs = 10\n",
        "\n",
        "print(\"GRU model\")\n",
        "gru_model = GRUModel(input_size, hidden_size, output_size)\n",
        "gru_train_losses, gru_val_losses, gru_val_accuracy, gru_training_time, gru_model_size = training_the_model(gru_model, train_loader, test_loader, device, num_epochs)\n",
        "total_params = sum(p.numel() for p in model.parameters())\n",
        "print(f'Total number of parameters in the model: {total_params}')\n",
        "def predict_next_char(model, char_to_ix, ix_to_char, initial_str, max_length):\n",
        "  model.eval()\n",
        "  with torch.no_grad():\n",
        "        initial_input = torch.tensor([char_to_ix[c] for c in initial_str[-max_length:]], dtype=torch.long).unsqueeze(0).to(device)\n",
        "        prediction = model(initial_input)\n",
        "        predicted_index = torch.argmax(prediction, dim=1).item()\n",
        "        return ix_to_char[predicted_index]\n",
        "test_str = \"Predicting the next charac\"\n",
        "predicted_char = predict_next_char(model, char_to_ix, ix_to_char, test_str, 30)\n",
        "print(f\"Predicted next character: '{predicted_char}'\")"
      ],
      "metadata": {
        "colab": {
          "base_uri": "https://localhost:8080/"
        },
        "id": "1x020QupxFhr",
        "outputId": "ad3ee603-1f76-40f9-fcdf-a4454cdad62e"
      },
      "execution_count": 126,
      "outputs": [
        {
          "output_type": "stream",
          "name": "stdout",
          "text": [
            "GRU model\n",
            "Epoch 1/10, Train Loss: 1.8020998015187626, Val Loss: 1.6284909841320807, Val Accuracy: 51.37466210612669%\n",
            "Epoch 2/10, Train Loss: 1.5747163515800864, Val Loss: 1.5487357412886495, Val Accuracy: 53.432284498796356%\n",
            "Epoch 3/10, Train Loss: 1.521530085564412, Val Loss: 1.5210483432568427, Val Accuracy: 54.084089065014595%\n",
            "Epoch 4/10, Train Loss: 1.4935064789846035, Val Loss: 1.5044406006135136, Val Accuracy: 54.68837555419078%\n",
            "Epoch 5/10, Train Loss: 1.4752108037334986, Val Loss: 1.4938513763458374, Val Accuracy: 54.80448104432181%\n",
            "Epoch 6/10, Train Loss: 1.4625921036857883, Val Loss: 1.4853431668968222, Val Accuracy: 54.935379898060276%\n",
            "Epoch 7/10, Train Loss: 1.4527435394723185, Val Loss: 1.4757229894040578, Val Accuracy: 55.244247398833565%\n",
            "Epoch 8/10, Train Loss: 1.4444643594773419, Val Loss: 1.4726558460015644, Val Accuracy: 55.30611055573736%\n",
            "Epoch 9/10, Train Loss: 1.4336923431867987, Val Loss: 1.4607933464230851, Val Accuracy: 55.623495447678565%\n",
            "Epoch 10/10, Train Loss: 1.424981420538033, Val Loss: 1.4552940099798806, Val Accuracy: 56.04039933116065%\n",
            "Training time: 239.64847946166992 seconds\n",
            "Total number of parameters in the model: 110380\n",
            "Predicted next character: 't'\n"
          ]
        }
      ]
    },
    {
      "cell_type": "code",
      "source": [
        "# Compare results\n",
        "print(\"\\nComparison of LSTM and GRU models:\")\n",
        "print(f\"LSTM - Training Loss: {lstm_train_losses[-1]}, Validation Loss: {lstm_val_losses[-1]}, Validation Accuracy: {lstm_val_accuracy[-1]}%, Training Time: {lstm_training_time} seconds, Model Size: {lstm_model_size} parameters\")\n",
        "print(f\"GRU - Training Loss: {gru_train_losses[-1]}, Validation Loss: {gru_val_losses[-1]}, Validation Accuracy: {gru_val_accuracy[-1]}%, Training Time: {gru_training_time} seconds, Model Size: {gru_model_size} parameters\")"
      ],
      "metadata": {
        "colab": {
          "base_uri": "https://localhost:8080/"
        },
        "id": "TJYcncGnAr1t",
        "outputId": "726f62c8-4ac7-466c-85f9-72fdd8667f8c"
      },
      "execution_count": 127,
      "outputs": [
        {
          "output_type": "stream",
          "name": "stdout",
          "text": [
            "\n",
            "Comparison of LSTM and GRU models:\n",
            "LSTM - Training Loss: 1.3798802079685242, Validation Loss: 1.4181153937379176, Validation Accuracy: 56.84193066843589%, Training Time: 241.99739480018616 seconds, Model Size: 148801 parameters\n",
            "GRU - Training Loss: 1.424981420538033, Validation Loss: 1.4552940099798806, Validation Accuracy: 56.04039933116065%, Training Time: 239.64847946166992 seconds, Model Size: 115777 parameters\n"
          ]
        }
      ]
    },
    {
      "cell_type": "code",
      "source": [
        "# Set device\n",
        "device = torch.device(\"cuda\" if torch.cuda.is_available() else \"cpu\")\n",
        "model.to(device)\n",
        "# Initialize and train the LSTM model\n",
        "input_size = len(chars)\n",
        "hidden_size = 256\n",
        "output_size = len(chars)\n",
        "num_epochs = 10\n",
        "\n",
        "\n",
        "print(\"LSTM model\\n\")\n",
        "lstm_model = LSTMModel(input_size, hidden_size, output_size)\n",
        "lstm_train_losses, lstm_val_losses, lstm_val_accuracy, lstm_training_time, lstm_model_size = training_the_model(lstm_model, train_loader, test_loader, device, num_epochs)\n",
        "total_params = sum(p.numel() for p in model.parameters())\n",
        "print(f'Total number of parameters in the model: {total_params}')\n",
        "def predict_next_char(model, char_to_ix, ix_to_char, initial_str, max_length):\n",
        "  model.eval()\n",
        "  with torch.no_grad():\n",
        "        initial_input = torch.tensor([char_to_ix[c] for c in initial_str[-max_length:]], dtype=torch.long).unsqueeze(0).to(device)\n",
        "        prediction = model(initial_input)\n",
        "        predicted_index = torch.argmax(prediction, dim=1).item()\n",
        "        return ix_to_char[predicted_index]\n",
        "test_str = \"Predicting the next charac\"\n",
        "predicted_char = predict_next_char(model, char_to_ix, ix_to_char, test_str, 30)\n",
        "print(f\"Predicted next character: '{predicted_char}'\")\n"
      ],
      "metadata": {
        "colab": {
          "base_uri": "https://localhost:8080/"
        },
        "id": "TQrT2ZdhsB05",
        "outputId": "13e23f5d-d30b-4623-b243-548c1862e98a"
      },
      "execution_count": 128,
      "outputs": [
        {
          "output_type": "stream",
          "name": "stdout",
          "text": [
            "LSTM model\n",
            "\n",
            "Epoch 1/10, Train Loss: 1.6981141623654588, Val Loss: 1.5282684947592187, Val Accuracy: 53.80794627767592%\n",
            "Epoch 2/10, Train Loss: 1.4721924677123575, Val Loss: 1.4613620984916775, Val Accuracy: 55.26755815360891%\n",
            "Epoch 3/10, Train Loss: 1.4131135745374759, Val Loss: 1.421676237146812, Val Accuracy: 56.54068399133916%\n",
            "Epoch 4/10, Train Loss: 1.3771824514599142, Val Loss: 1.3976457633646617, Val Accuracy: 57.04769290770286%\n",
            "Epoch 5/10, Train Loss: 1.3519261161776979, Val Loss: 1.3874774398779088, Val Accuracy: 57.267800226831575%\n",
            "Epoch 6/10, Train Loss: 1.3324017011514013, Val Loss: 1.3761166163169305, Val Accuracy: 57.67842813787415%\n",
            "Epoch 7/10, Train Loss: 1.3172536966996293, Val Loss: 1.3736462280863808, Val Accuracy: 57.76405033329897%\n",
            "Epoch 8/10, Train Loss: 1.3045036109592882, Val Loss: 1.3653856799374076, Val Accuracy: 57.89450090329175%\n",
            "Epoch 9/10, Train Loss: 1.2936522325461306, Val Loss: 1.3641957537716172, Val Accuracy: 57.88329380964976%\n",
            "Epoch 10/10, Train Loss: 1.2841105844464304, Val Loss: 1.3563531437483727, Val Accuracy: 58.34637091893685%\n",
            "Training time: 319.38796639442444 seconds\n",
            "Total number of parameters in the model: 110380\n",
            "Predicted next character: 't'\n"
          ]
        }
      ]
    },
    {
      "cell_type": "code",
      "source": [
        "# Initialize and train the GRU model\n",
        "input_size = len(chars)\n",
        "hidden_size = 256\n",
        "output_size = len(chars)\n",
        "num_epochs = 10\n",
        "\n",
        "print(\"GRU model\")\n",
        "gru_model = GRUModel(input_size, hidden_size, output_size)\n",
        "gru_train_losses, gru_val_losses, gru_val_accuracy, gru_training_time, gru_model_size = training_the_model(gru_model, train_loader, test_loader, device, num_epochs)\n",
        "total_params = sum(p.numel() for p in model.parameters())\n",
        "print(f'Total number of parameters in the model: {total_params}')\n",
        "def predict_next_char(model, char_to_ix, ix_to_char, initial_str, max_length):\n",
        "  model.eval()\n",
        "  with torch.no_grad():\n",
        "        initial_input = torch.tensor([char_to_ix[c] for c in initial_str[-max_length:]], dtype=torch.long).unsqueeze(0).to(device)\n",
        "        prediction = model(initial_input)\n",
        "        predicted_index = torch.argmax(prediction, dim=1).item()\n",
        "        return ix_to_char[predicted_index]\n",
        "test_str = \"Predicting the next charac\"\n",
        "predicted_char = predict_next_char(model, char_to_ix, ix_to_char, test_str, 30)\n",
        "print(f\"Predicted next character: '{predicted_char}'\")"
      ],
      "metadata": {
        "colab": {
          "base_uri": "https://localhost:8080/"
        },
        "id": "DphU8uKksbdd",
        "outputId": "c24d04a3-7f22-4a63-eba9-2cb251f1a27a"
      },
      "execution_count": 129,
      "outputs": [
        {
          "output_type": "stream",
          "name": "stdout",
          "text": [
            "GRU model\n",
            "Epoch 1/10, Train Loss: 1.686592279137788, Val Loss: 1.5385178375435642, Val Accuracy: 53.5371828952854%\n",
            "Epoch 2/10, Train Loss: 1.4943277687603758, Val Loss: 1.483591611810751, Val Accuracy: 55.17834968821865%\n",
            "Epoch 3/10, Train Loss: 1.447885329464832, Val Loss: 1.4551890905875964, Val Accuracy: 55.87094807529374%\n",
            "Epoch 4/10, Train Loss: 1.422795365305379, Val Loss: 1.446815055673723, Val Accuracy: 55.98705356542477%\n",
            "Epoch 5/10, Train Loss: 1.4059528370168246, Val Loss: 1.433349368083908, Val Accuracy: 56.42413021746245%\n",
            "Epoch 6/10, Train Loss: 1.3934025141831041, Val Loss: 1.429645134844591, Val Accuracy: 56.35509452062777%\n",
            "Epoch 7/10, Train Loss: 1.3845681111513712, Val Loss: 1.425729160567364, Val Accuracy: 56.68503135744801%\n",
            "Epoch 8/10, Train Loss: 1.3782804097319838, Val Loss: 1.431422640999637, Val Accuracy: 56.09553823187925%\n",
            "Epoch 9/10, Train Loss: 1.3740288436635089, Val Loss: 1.4223421413325332, Val Accuracy: 56.57296042102809%\n",
            "Epoch 10/10, Train Loss: 1.3721061477579746, Val Loss: 1.414999493804391, Val Accuracy: 56.87151739565075%\n",
            "Training time: 304.1290080547333 seconds\n",
            "Total number of parameters in the model: 110380\n",
            "Predicted next character: 't'\n"
          ]
        }
      ]
    },
    {
      "cell_type": "code",
      "source": [
        "# Compare results\n",
        "print(\"\\nComparison of LSTM and GRU models:\")\n",
        "print(f\"LSTM - Training Loss: {lstm_train_losses[-1]}, Validation Loss: {lstm_val_losses[-1]}, Validation Accuracy: {lstm_val_accuracy[-1]}%, Training Time: {lstm_training_time} seconds, Model Size: {lstm_model_size} parameters\")\n",
        "print(f\"GRU - Training Loss: {gru_train_losses[-1]}, Validation Loss: {gru_val_losses[-1]}, Validation Accuracy: {gru_val_accuracy[-1]}%, Training Time: {gru_training_time} seconds, Model Size: {gru_model_size} parameters\")"
      ],
      "metadata": {
        "colab": {
          "base_uri": "https://localhost:8080/"
        },
        "id": "9cdpB42cBCDj",
        "outputId": "c89d7e7d-4245-4002-a35b-5ec5c809a516"
      },
      "execution_count": 130,
      "outputs": [
        {
          "output_type": "stream",
          "name": "stdout",
          "text": [
            "\n",
            "Comparison of LSTM and GRU models:\n",
            "LSTM - Training Loss: 1.2841105844464304, Validation Loss: 1.3563531437483727, Validation Accuracy: 58.34637091893685%, Training Time: 319.38796639442444 seconds, Model Size: 559681 parameters\n",
            "GRU - Training Loss: 1.3721061477579746, Validation Loss: 1.414999493804391, Validation Accuracy: 56.87151739565075%, Training Time: 304.1290080547333 seconds, Model Size: 428097 parameters\n"
          ]
        }
      ]
    },
    {
      "cell_type": "code",
      "source": [
        "# Prepare the dataset with sequence length 50\n",
        "sequence_length = 50\n",
        "chars = sorted(list(set(text)))\n",
        "char_to_int = {ch: i for i, ch in enumerate(chars)}\n",
        "int_to_char = {i: ch for i, ch in enumerate(chars)}\n",
        "encoded_text = [char_to_int[ch] for ch in text]\n",
        "\n",
        "sequences = []\n",
        "targets = []\n",
        "for i in range(0, len(encoded_text) - sequence_length):\n",
        "    seq = encoded_text[i:i+sequence_length]\n",
        "    target = encoded_text[i+sequence_length]\n",
        "    sequences.append(seq)\n",
        "    targets.append(target)\n",
        "\n",
        "sequences = torch.tensor(sequences, dtype=torch.long)\n",
        "targets = torch.tensor(targets, dtype=torch.long)\n",
        "\n",
        "# Define the dataset class\n",
        "class CharDataset(Dataset):\n",
        "    def __init__(self, sequences, targets):\n",
        "        self.sequences = sequences\n",
        "        self.targets = targets\n",
        "\n",
        "    def __len__(self):\n",
        "        return len(self.sequences)\n",
        "\n",
        "    def __getitem__(self, index):\n",
        "        return self.sequences[index], self.targets[index]\n",
        "\n",
        "# Split the dataset into training and testing sets\n",
        "dataset = CharDataset(sequences, targets)\n",
        "train_size = int(len(dataset) * 0.8)\n",
        "test_size = len(dataset) - train_size\n",
        "train_dataset, test_dataset = random_split(dataset, [train_size, test_size])\n",
        "\n",
        "# Create data loaders\n",
        "batch_size = 64\n",
        "train_loader = DataLoader(train_dataset, shuffle=True, batch_size=batch_size)\n",
        "test_loader = DataLoader(test_dataset, shuffle=False, batch_size=batch_size)\n"
      ],
      "metadata": {
        "id": "pgbAhsxVspNs"
      },
      "execution_count": 131,
      "outputs": []
    },
    {
      "cell_type": "code",
      "source": [
        "# Set device\n",
        "device = torch.device(\"cuda\" if torch.cuda.is_available() else \"cpu\")\n",
        "model.to(device)\n",
        "# Initialize and train the LSTM model\n",
        "input_size = len(chars)\n",
        "hidden_size = 256\n",
        "output_size = len(chars)\n",
        "num_epochs = 10\n",
        "\n",
        "\n",
        "print(\"LSTM model\\n\")\n",
        "lstm_model = LSTMModel(input_size, hidden_size, output_size)\n",
        "lstm_train_losses, lstm_val_losses, lstm_val_accuracy, lstm_training_time, lstm_model_size = training_the_model(lstm_model, train_loader, test_loader, device, num_epochs)\n",
        "total_params = sum(p.numel() for p in model.parameters())\n",
        "print(f'Total number of parameters in the model: {total_params}')\n",
        "def predict_next_char(model, char_to_ix, ix_to_char, initial_str, max_length):\n",
        "  model.eval()\n",
        "  with torch.no_grad():\n",
        "        initial_input = torch.tensor([char_to_ix[c] for c in initial_str[-max_length:]], dtype=torch.long).unsqueeze(0).to(device)\n",
        "        prediction = model(initial_input)\n",
        "        predicted_index = torch.argmax(prediction, dim=1).item()\n",
        "        return ix_to_char[predicted_index]\n",
        "test_str = \"Predicting the next charac\"\n",
        "predicted_char = predict_next_char(model, char_to_ix, ix_to_char, test_str, 50)\n",
        "print(f\"Predicted next character: '{predicted_char}'\")\n"
      ],
      "metadata": {
        "colab": {
          "base_uri": "https://localhost:8080/"
        },
        "id": "zJWe3uS2xW6T",
        "outputId": "56a63e2e-7996-48ee-cfa3-7d31161681e5"
      },
      "execution_count": 132,
      "outputs": [
        {
          "output_type": "stream",
          "name": "stdout",
          "text": [
            "LSTM model\n",
            "\n",
            "Epoch 1/10, Train Loss: 1.682910358259384, Val Loss: 1.527647488396262, Val Accuracy: 53.822359897610156%\n",
            "Epoch 2/10, Train Loss: 1.4730430143179776, Val Loss: 1.4510415537700665, Val Accuracy: 55.70339222393071%\n",
            "Epoch 3/10, Train Loss: 1.4168990724031354, Val Loss: 1.4261195478053594, Val Accuracy: 56.31037929967857%\n",
            "Epoch 4/10, Train Loss: 1.3840494855261485, Val Loss: 1.400843796805958, Val Accuracy: 56.99985206371123%\n",
            "Epoch 5/10, Train Loss: 1.359940777830817, Val Loss: 1.3884102034110553, Val Accuracy: 57.263447632795234%\n",
            "Epoch 6/10, Train Loss: 1.3427014678242113, Val Loss: 1.379472758430759, Val Accuracy: 57.56694117066917%\n",
            "Epoch 7/10, Train Loss: 1.329247392937402, Val Loss: 1.3782072133431131, Val Accuracy: 57.586217717387896%\n",
            "Epoch 8/10, Train Loss: 1.3182375680817164, Val Loss: 1.3708770670257486, Val Accuracy: 57.80991531768197%\n",
            "Epoch 9/10, Train Loss: 1.3103912637618842, Val Loss: 1.3664272476630996, Val Accuracy: 57.91974680480031%\n",
            "Epoch 10/10, Train Loss: 1.3024869590651407, Val Loss: 1.3617309811330018, Val Accuracy: 58.051992881126466%\n",
            "Training time: 627.5581910610199 seconds\n",
            "Total number of parameters in the model: 110380\n",
            "Predicted next character: 't'\n"
          ]
        }
      ]
    },
    {
      "cell_type": "code",
      "source": [
        "# Initialize and train the GRU model\n",
        "input_size = len(chars)\n",
        "hidden_size = 256\n",
        "output_size = len(chars)\n",
        "num_epochs = 10\n",
        "\n",
        "print(\"GRU model\")\n",
        "gru_model = GRUModel(input_size, hidden_size, output_size)\n",
        "gru_train_losses, gru_val_losses, gru_val_accuracy, gru_training_time, gru_model_size = training_the_model(gru_model, train_loader, test_loader, device, num_epochs)\n",
        "total_params = sum(p.numel() for p in model.parameters())\n",
        "print(f'Total number of parameters in the model: {total_params}')\n",
        "def predict_next_char(model, char_to_ix, ix_to_char, initial_str, max_length):\n",
        "  model.eval()\n",
        "  with torch.no_grad():\n",
        "        initial_input = torch.tensor([char_to_ix[c] for c in initial_str[-max_length:]], dtype=torch.long).unsqueeze(0).to(device)\n",
        "        prediction = model(initial_input)\n",
        "        predicted_index = torch.argmax(prediction, dim=1).item()\n",
        "        return ix_to_char[predicted_index]\n",
        "test_str = \"Predicting the next charac\"\n",
        "predicted_char = predict_next_char(model, char_to_ix, ix_to_char, test_str, 50)\n",
        "print(f\"Predicted next character: '{predicted_char}'\")"
      ],
      "metadata": {
        "colab": {
          "base_uri": "https://localhost:8080/"
        },
        "id": "MHo-QnaexZ42",
        "outputId": "a9948eda-ec14-4e58-99ce-6551b0fcb113"
      },
      "execution_count": null,
      "outputs": [
        {
          "output_type": "stream",
          "name": "stdout",
          "text": [
            "GRU model\n"
          ]
        }
      ]
    },
    {
      "cell_type": "code",
      "source": [
        "# Compare results\n",
        "print(\"\\nComparison of LSTM and GRU models:\")\n",
        "print(f\"LSTM - Training Loss: {lstm_train_losses[-1]}, Validation Loss: {lstm_val_losses[-1]}, Validation Accuracy: {lstm_val_accuracy[-1]}%, Training Time: {lstm_training_time} seconds, Model Size: {lstm_model_size} parameters\")\n",
        "print(f\"GRU - Training Loss: {gru_train_losses[-1]}, Validation Loss: {gru_val_losses[-1]}, Validation Accuracy: {gru_val_accuracy[-1]}%, Training Time: {gru_training_time} seconds, Model Size: {gru_model_size} parameters\")"
      ],
      "metadata": {
        "id": "gAn3H80Os9i3"
      },
      "execution_count": null,
      "outputs": []
    }
  ]
}