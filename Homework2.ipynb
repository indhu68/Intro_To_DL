{
  "nbformat": 4,
  "nbformat_minor": 0,
  "metadata": {
    "colab": {
      "provenance": [],
      "machine_shape": "hm",
      "gpuType": "V100",
      "authorship_tag": "ABX9TyMOr0h3bZ33GbOGYmLQDEUN",
      "include_colab_link": true
    },
    "kernelspec": {
      "name": "python3",
      "display_name": "Python 3"
    },
    "language_info": {
      "name": "python"
    },
    "accelerator": "GPU"
  },
  "cells": [
    {
      "cell_type": "markdown",
      "metadata": {
        "id": "view-in-github",
        "colab_type": "text"
      },
      "source": [
        "<a href=\"https://colab.research.google.com/github/indhu68/Intro_To_DL/blob/main/Homework2.ipynb\" target=\"_parent\"><img src=\"https://colab.research.google.com/assets/colab-badge.svg\" alt=\"Open In Colab\"/></a>"
      ]
    },
    {
      "cell_type": "code",
      "execution_count": 66,
      "metadata": {
        "id": "2gzJ1E310ZQT"
      },
      "outputs": [],
      "source": [
        "import os\n",
        "import torch\n",
        "import torch.nn as nn\n",
        "import torch.optim as optim\n",
        "from torch.utils.data import DataLoader, TensorDataset\n",
        "from torchvision import datasets, transforms\n",
        "from sklearn.model_selection import train_test_split\n",
        "from sklearn.preprocessing import StandardScaler\n",
        "import pandas as pd\n",
        "import numpy as np\n",
        "import matplotlib.pyplot as plt\n",
        "from sklearn.metrics import precision_score, recall_score, accuracy_score, confusion_matrix, ConfusionMatrixDisplay, classification_report, f1_score\n",
        "import seaborn as sns\n",
        "from tqdm.notebook import tqdm\n",
        "torch.set_printoptions(edgeitems=2)\n",
        "torch.manual_seed(123)\n",
        "np.random.seed(123)"
      ]
    },
    {
      "cell_type": "code",
      "source": [
        "# Set device\n",
        "device = torch.device(\"cuda\" if torch.cuda.is_available() else \"cpu\")\n",
        "device"
      ],
      "metadata": {
        "colab": {
          "base_uri": "https://localhost:8080/"
        },
        "id": "X5EYR_z000_W",
        "outputId": "756a7bea-3573-48d7-8151-7c4a5fdb4225"
      },
      "execution_count": 67,
      "outputs": [
        {
          "output_type": "execute_result",
          "data": {
            "text/plain": [
              "device(type='cuda')"
            ]
          },
          "metadata": {},
          "execution_count": 67
        }
      ]
    },
    {
      "cell_type": "code",
      "source": [
        "train_dataset = datasets.CIFAR10(root='./data', train=True, download=True, transform=transforms.ToTensor())\n",
        "# Calculate mean and std\n",
        "images = torch.stack([img_t for img_t, _ in train_dataset], dim=3)\n",
        "mean = images.view(3, -1).mean(dim=1)\n",
        "std = images.view(3, -1).std(dim=1)"
      ],
      "metadata": {
        "colab": {
          "base_uri": "https://localhost:8080/"
        },
        "id": "YTIjKJH703hY",
        "outputId": "994ff21f-bc56-4ab5-f7e7-11bcca051981"
      },
      "execution_count": 68,
      "outputs": [
        {
          "output_type": "stream",
          "name": "stdout",
          "text": [
            "Files already downloaded and verified\n"
          ]
        }
      ]
    },
    {
      "cell_type": "code",
      "source": [
        "mean,std"
      ],
      "metadata": {
        "colab": {
          "base_uri": "https://localhost:8080/"
        },
        "id": "n17XmYJm05mS",
        "outputId": "a4e5e805-855b-4cfc-a3ce-fc8babab7088"
      },
      "execution_count": 69,
      "outputs": [
        {
          "output_type": "execute_result",
          "data": {
            "text/plain": [
              "(tensor([0.4914, 0.4822, 0.4465]), tensor([0.2470, 0.2435, 0.2616]))"
            ]
          },
          "metadata": {},
          "execution_count": 69
        }
      ]
    },
    {
      "cell_type": "code",
      "source": [
        "cifar10 = datasets.CIFAR10(\n",
        "    './data', train=True, download=False,\n",
        "    transform=transforms.Compose([\n",
        "        transforms.ToTensor(),\n",
        "        transforms.Normalize((0.4914, 0.4822, 0.4465),\n",
        "                             (0.2470, 0.2435, 0.2616))\n",
        "    ]))"
      ],
      "metadata": {
        "id": "p7Lq4v5-084e"
      },
      "execution_count": 70,
      "outputs": []
    },
    {
      "cell_type": "code",
      "source": [
        "cifar10_val = datasets.CIFAR10(\n",
        "     './data', train=False, download=False,\n",
        "    transform=transforms.Compose([\n",
        "        transforms.ToTensor(),\n",
        "        transforms.Normalize((0.4914, 0.4822, 0.4465),\n",
        "                             (0.2470, 0.2435, 0.2616))\n",
        "    ]))"
      ],
      "metadata": {
        "id": "zoDrepqS1BNe"
      },
      "execution_count": 71,
      "outputs": []
    },
    {
      "cell_type": "code",
      "source": [
        "image1, label = cifar10[0]\n",
        "print(image1.shape)"
      ],
      "metadata": {
        "colab": {
          "base_uri": "https://localhost:8080/"
        },
        "id": "-htYZJqL1DRB",
        "outputId": "b223b625-30d0-4cc2-c8a7-fce08b83933e"
      },
      "execution_count": 72,
      "outputs": [
        {
          "output_type": "stream",
          "name": "stdout",
          "text": [
            "torch.Size([3, 32, 32])\n"
          ]
        }
      ]
    },
    {
      "cell_type": "code",
      "source": [
        "train_loader = DataLoader(cifar10, batch_size=32, shuffle=True, num_workers=3)\n",
        "test_loader = DataLoader(cifar10_val, batch_size=32, shuffle=False, num_workers=3)"
      ],
      "metadata": {
        "id": "qcwd-jQ21Gyg"
      },
      "execution_count": 73,
      "outputs": []
    },
    {
      "cell_type": "code",
      "source": [
        "def train_and_evaluate_model(model, criterion, optimizer, train_loader, test_loader, device='cuda', n_epochs = 20):\n",
        "    def calculate_metrics(predictions, targets):\n",
        "        accuracy = 100 * sum([p == t for p, t in zip(predictions, targets)]) / len(targets)\n",
        "        precision = precision_score(targets, predictions, average='weighted')\n",
        "        recall = recall_score(targets, predictions, average='weighted')\n",
        "        f1 = f1_score(targets, predictions, average='weighted')\n",
        "        return accuracy, precision, recall, f1\n",
        "\n",
        "    model.to(device)\n",
        "\n",
        "    train_loss_list, val_loss_list, val_accuracy_list = [], [], []\n",
        "\n",
        "    # Training loop\n",
        "    epochs = n_epochs\n",
        "    for epoch in range(epochs):\n",
        "        running_loss = 0.0\n",
        "        model.train()\n",
        "        for i, (inputs, labels) in enumerate(train_loader, 0):\n",
        "            inputs, labels = inputs.to(device), labels.to(device)\n",
        "            optimizer.zero_grad()\n",
        "            outputs = model(inputs)\n",
        "            loss = criterion(outputs, labels)\n",
        "            loss.backward()\n",
        "            optimizer.step()\n",
        "            running_loss += loss.item()\n",
        "        train_loss_list.append(running_loss / len(train_loader))\n",
        "\n",
        "        # Validation loop\n",
        "        running_loss = 0.0\n",
        "        correct = 0\n",
        "        total = 0\n",
        "        model.eval()\n",
        "        all_predictions, all_targets = [], []\n",
        "        with torch.no_grad():\n",
        "            for i, (inputs, labels) in enumerate(test_loader, 0):\n",
        "                inputs, labels = inputs.to(device), labels.to(device)\n",
        "                outputs = model(inputs)\n",
        "                loss = criterion(outputs, labels)\n",
        "                running_loss += loss.item()\n",
        "                _, predicted = torch.max(outputs.data, 1)\n",
        "                total += labels.size(0)\n",
        "                correct += (predicted == labels).sum().item()\n",
        "                all_predictions.extend(predicted.tolist())\n",
        "                all_targets.extend(labels.tolist())\n",
        "\n",
        "        val_loss_list.append(running_loss / len(test_loader))\n",
        "        val_accuracy = 100 * correct / total\n",
        "        val_accuracy_list.append(val_accuracy)\n",
        "\n",
        "        print(f'Epoch {epoch + 1}, Training loss: {train_loss_list[-1]:.4f}, Validation loss: {val_loss_list[-1]:.4f}, Validation Accuracy: {val_accuracy:.2f}%')\n",
        "\n",
        "\n",
        "    model.eval()\n",
        "    all_predictions, all_targets = [], []\n",
        "    with torch.no_grad():\n",
        "        for i, (inputs, targets) in enumerate(test_loader, 0):\n",
        "            inputs, targets = inputs.to(device), targets.to(device)\n",
        "            outputs = model(inputs)\n",
        "            _, predicted = torch.max(outputs.data, 1)\n",
        "            all_predictions.extend(predicted.tolist())\n",
        "            all_targets.extend(targets.tolist())\n",
        "\n",
        "    accuracy, precision, recall, f1 = calculate_metrics(all_predictions, all_targets)\n",
        "\n",
        "    # Print the metrics\n",
        "    print(f'\\nFinal Evaluation Metrics:')\n",
        "    print(f'Accuracy: {accuracy:.2f}%')\n",
        "    print(f'Precision: {precision:.4f}')\n",
        "    print(f'Recall: {recall:.4f}')\n",
        "    print(f'F1 Score: {f1:.4f}')\n",
        "\n",
        "    # Return metrics\n",
        "    return {\n",
        "        'train_loss': train_loss_list,\n",
        "        'val_loss': val_loss_list,\n",
        "        'val_accuracy': val_accuracy_list,\n",
        "        'final_accuracy': accuracy,\n",
        "        'final_precision': precision,\n",
        "        'final_recall': recall,\n",
        "        'final_f1': f1,\n",
        "        'all_targets': all_targets,\n",
        "        'all_predictions': all_predictions,\n",
        "        'model': model\n",
        "    }"
      ],
      "metadata": {
        "id": "yVb9D44D1PHr"
      },
      "execution_count": 74,
      "outputs": []
    },
    {
      "cell_type": "code",
      "source": [
        "class AlexNet(nn.Module):\n",
        "    def __init__(self, dropout_p,num_classes=10):\n",
        "        super(AlexNet, self).__init__()\n",
        "        self.features = nn.Sequential(\n",
        "            nn.Conv2d(3, 48, kernel_size=5, stride=1, padding=2),\n",
        "            nn.ReLU(inplace=True),\n",
        "            nn.MaxPool2d(kernel_size=3, stride=2),\n",
        "            nn.Dropout(p=dropout_p),\n",
        "            nn.Conv2d(48, 128, kernel_size=3, stride=1, padding=1),\n",
        "            nn.ReLU(inplace=True),\n",
        "            nn.MaxPool2d(kernel_size=3, stride=2),\n",
        "\n",
        "        )\n",
        "\n",
        "\n",
        "\n",
        "        self.classifier = nn.Sequential(\n",
        "            nn.Dropout(p=dropout_p),\n",
        "            nn.Linear(6272, 1024),  # Corrected to match the actual flattened size\n",
        "            nn.ReLU(inplace=True),\n",
        "\n",
        "            nn.Linear(1024, 512),\n",
        "            nn.ReLU(inplace=True),\n",
        "            nn.Linear(512, num_classes),\n",
        "        )\n",
        "\n",
        "\n",
        "    def forward(self, x):\n",
        "        x = self.features(x)\n",
        "        x = torch.flatten(x, 1)\n",
        "        x = self.classifier(x)\n",
        "        return x"
      ],
      "metadata": {
        "id": "sZjr3p7q1Tot"
      },
      "execution_count": 75,
      "outputs": []
    },
    {
      "cell_type": "code",
      "source": [
        "model = AlexNet(dropout_p=0)\n",
        "model = model.to(device)\n",
        "criterion = nn.CrossEntropyLoss()\n",
        "optimizer = optim.SGD(model.parameters(), lr=0.01)"
      ],
      "metadata": {
        "id": "polqm8aQ1V8V"
      },
      "execution_count": 76,
      "outputs": []
    },
    {
      "cell_type": "code",
      "source": [
        "print(model)"
      ],
      "metadata": {
        "colab": {
          "base_uri": "https://localhost:8080/"
        },
        "id": "h132I-qg1aPU",
        "outputId": "8ef16e6b-01b5-4452-eaf7-fa675a1d6d76"
      },
      "execution_count": 77,
      "outputs": [
        {
          "output_type": "stream",
          "name": "stdout",
          "text": [
            "AlexNet(\n",
            "  (features): Sequential(\n",
            "    (0): Conv2d(3, 48, kernel_size=(5, 5), stride=(1, 1), padding=(2, 2))\n",
            "    (1): ReLU(inplace=True)\n",
            "    (2): MaxPool2d(kernel_size=3, stride=2, padding=0, dilation=1, ceil_mode=False)\n",
            "    (3): Dropout(p=0, inplace=False)\n",
            "    (4): Conv2d(48, 128, kernel_size=(3, 3), stride=(1, 1), padding=(1, 1))\n",
            "    (5): ReLU(inplace=True)\n",
            "    (6): MaxPool2d(kernel_size=3, stride=2, padding=0, dilation=1, ceil_mode=False)\n",
            "  )\n",
            "  (classifier): Sequential(\n",
            "    (0): Dropout(p=0, inplace=False)\n",
            "    (1): Linear(in_features=6272, out_features=1024, bias=True)\n",
            "    (2): ReLU(inplace=True)\n",
            "    (3): Linear(in_features=1024, out_features=512, bias=True)\n",
            "    (4): ReLU(inplace=True)\n",
            "    (5): Linear(in_features=512, out_features=10, bias=True)\n",
            "  )\n",
            ")\n"
          ]
        }
      ]
    },
    {
      "cell_type": "code",
      "source": [
        "model_without_dropout = train_and_evaluate_model(model, criterion, optimizer, train_loader, test_loader, device, n_epochs=30)\n",
        ""
      ],
      "metadata": {
        "colab": {
          "base_uri": "https://localhost:8080/"
        },
        "id": "27ykulGI1awH",
        "outputId": "de67d0a0-1c62-451f-d371-9b442ac969f1"
      },
      "execution_count": 78,
      "outputs": [
        {
          "output_type": "stream",
          "name": "stdout",
          "text": [
            "Epoch 1, Training loss: 1.7436, Validation loss: 1.4333, Validation Accuracy: 48.67%\n",
            "Epoch 2, Training loss: 1.2988, Validation loss: 1.2156, Validation Accuracy: 57.28%\n",
            "Epoch 3, Training loss: 1.0798, Validation loss: 1.0079, Validation Accuracy: 65.14%\n",
            "Epoch 4, Training loss: 0.9362, Validation loss: 0.9236, Validation Accuracy: 67.84%\n",
            "Epoch 5, Training loss: 0.8257, Validation loss: 0.8584, Validation Accuracy: 70.16%\n",
            "Epoch 6, Training loss: 0.7275, Validation loss: 0.8613, Validation Accuracy: 70.53%\n",
            "Epoch 7, Training loss: 0.6375, Validation loss: 0.7791, Validation Accuracy: 73.66%\n",
            "Epoch 8, Training loss: 0.5533, Validation loss: 0.7605, Validation Accuracy: 74.16%\n",
            "Epoch 9, Training loss: 0.4678, Validation loss: 0.7132, Validation Accuracy: 76.05%\n",
            "Epoch 10, Training loss: 0.3896, Validation loss: 0.7664, Validation Accuracy: 74.93%\n",
            "Epoch 11, Training loss: 0.3110, Validation loss: 0.8069, Validation Accuracy: 75.55%\n",
            "Epoch 12, Training loss: 0.2370, Validation loss: 0.8674, Validation Accuracy: 75.10%\n",
            "Epoch 13, Training loss: 0.1680, Validation loss: 0.8315, Validation Accuracy: 76.86%\n",
            "Epoch 14, Training loss: 0.1191, Validation loss: 1.0541, Validation Accuracy: 73.87%\n",
            "Epoch 15, Training loss: 0.0771, Validation loss: 0.9185, Validation Accuracy: 78.10%\n",
            "Epoch 16, Training loss: 0.0497, Validation loss: 1.4594, Validation Accuracy: 71.48%\n",
            "Epoch 17, Training loss: 0.0403, Validation loss: 1.1029, Validation Accuracy: 77.04%\n",
            "Epoch 18, Training loss: 0.0233, Validation loss: 1.1130, Validation Accuracy: 77.92%\n",
            "Epoch 19, Training loss: 0.0075, Validation loss: 1.1549, Validation Accuracy: 78.46%\n",
            "Epoch 20, Training loss: 0.0043, Validation loss: 1.2079, Validation Accuracy: 78.47%\n",
            "Epoch 21, Training loss: 0.0027, Validation loss: 1.2233, Validation Accuracy: 78.56%\n",
            "Epoch 22, Training loss: 0.0015, Validation loss: 1.2668, Validation Accuracy: 79.05%\n",
            "Epoch 23, Training loss: 0.0011, Validation loss: 1.2859, Validation Accuracy: 78.93%\n",
            "Epoch 24, Training loss: 0.0009, Validation loss: 1.3111, Validation Accuracy: 78.98%\n",
            "Epoch 25, Training loss: 0.0007, Validation loss: 1.3267, Validation Accuracy: 78.98%\n",
            "Epoch 26, Training loss: 0.0007, Validation loss: 1.3447, Validation Accuracy: 78.90%\n",
            "Epoch 27, Training loss: 0.0006, Validation loss: 1.3602, Validation Accuracy: 79.01%\n",
            "Epoch 28, Training loss: 0.0005, Validation loss: 1.3746, Validation Accuracy: 79.04%\n",
            "Epoch 29, Training loss: 0.0005, Validation loss: 1.3848, Validation Accuracy: 78.96%\n",
            "Epoch 30, Training loss: 0.0005, Validation loss: 1.3971, Validation Accuracy: 79.10%\n",
            "\n",
            "Final Evaluation Metrics:\n",
            "Accuracy: 79.10%\n",
            "Precision: 0.7906\n",
            "Recall: 0.7910\n",
            "F1 Score: 0.7908\n"
          ]
        }
      ]
    },
    {
      "cell_type": "code",
      "source": [
        "total_params = sum(p.numel() for p in model_without_dropout['model'].parameters())\n",
        "print(f'Total number of parameters in the model: {total_params}')"
      ],
      "metadata": {
        "colab": {
          "base_uri": "https://localhost:8080/"
        },
        "id": "B6mGgWBx4j_q",
        "outputId": "c6532e7d-935d-4405-e440-7ec106097fda"
      },
      "execution_count": 79,
      "outputs": [
        {
          "output_type": "stream",
          "name": "stdout",
          "text": [
            "Total number of parameters in the model: 7012554\n"
          ]
        }
      ]
    },
    {
      "cell_type": "code",
      "source": [
        "epochs_list = [i for i in range(1, 30+1, 1)]\n",
        "plt.plot(epochs_list, model_without_dropout['train_loss'], label='Training loss')\n",
        "plt.plot(epochs_list, model_without_dropout['val_loss'], label='Validation loss')\n",
        "plt.xlabel('Epoch')\n",
        "plt.ylabel('Loss')\n",
        "plt.title('Without Dropout')\n",
        "plt.legend()\n",
        "plt.show()"
      ],
      "metadata": {
        "colab": {
          "base_uri": "https://localhost:8080/",
          "height": 472
        },
        "id": "aVDS5P494-AZ",
        "outputId": "b6dcc185-5d4e-416e-ff6d-d8ca703c9585"
      },
      "execution_count": 80,
      "outputs": [
        {
          "output_type": "display_data",
          "data": {
            "text/plain": [
              "<Figure size 640x480 with 1 Axes>"
            ],
            "image/png": "[encoded data removed]"
          },
          "metadata": {}
        }
      ]
    },
    {
      "cell_type": "code",
      "source": [
        "model_with_dropout = AlexNet(dropout_p=0.5)\n",
        "model_with_dropout = model_with_dropout.to(device)\n",
        "criterion = nn.CrossEntropyLoss()\n",
        "optimizer = optim.SGD(model_with_dropout.parameters(), lr=0.01)"
      ],
      "metadata": {
        "id": "Y6vYqqK35OTH"
      },
      "execution_count": 81,
      "outputs": []
    },
    {
      "cell_type": "code",
      "source": [
        "print(model_with_dropout)\n",
        ""
      ],
      "metadata": {
        "colab": {
          "base_uri": "https://localhost:8080/"
        },
        "id": "Bm74aAZY5SgQ",
        "outputId": "5309fe6d-4117-4844-8b40-f9a8f58f1186"
      },
      "execution_count": 82,
      "outputs": [
        {
          "output_type": "stream",
          "name": "stdout",
          "text": [
            "AlexNet(\n",
            "  (features): Sequential(\n",
            "    (0): Conv2d(3, 48, kernel_size=(5, 5), stride=(1, 1), padding=(2, 2))\n",
            "    (1): ReLU(inplace=True)\n",
            "    (2): MaxPool2d(kernel_size=3, stride=2, padding=0, dilation=1, ceil_mode=False)\n",
            "    (3): Dropout(p=0.5, inplace=False)\n",
            "    (4): Conv2d(48, 128, kernel_size=(3, 3), stride=(1, 1), padding=(1, 1))\n",
            "    (5): ReLU(inplace=True)\n",
            "    (6): MaxPool2d(kernel_size=3, stride=2, padding=0, dilation=1, ceil_mode=False)\n",
            "  )\n",
            "  (classifier): Sequential(\n",
            "    (0): Dropout(p=0.5, inplace=False)\n",
            "    (1): Linear(in_features=6272, out_features=1024, bias=True)\n",
            "    (2): ReLU(inplace=True)\n",
            "    (3): Linear(in_features=1024, out_features=512, bias=True)\n",
            "    (4): ReLU(inplace=True)\n",
            "    (5): Linear(in_features=512, out_features=10, bias=True)\n",
            "  )\n",
            ")\n"
          ]
        }
      ]
    },
    {
      "cell_type": "code",
      "source": [
        "model_with_dropout_metrics = train_and_evaluate_model(model_with_dropout, criterion, optimizer, train_loader, test_loader, device, n_epochs=30)\n",
        ""
      ],
      "metadata": {
        "colab": {
          "base_uri": "https://localhost:8080/"
        },
        "id": "wGhtreLY5VI_",
        "outputId": "38339e50-fa0c-4a2d-8cc2-ecee6bc64cdf"
      },
      "execution_count": 83,
      "outputs": [
        {
          "output_type": "stream",
          "name": "stdout",
          "text": [
            "Epoch 1, Training loss: 1.8247, Validation loss: 1.6226, Validation Accuracy: 41.02%\n",
            "Epoch 2, Training loss: 1.4401, Validation loss: 1.3607, Validation Accuracy: 54.53%\n",
            "Epoch 3, Training loss: 1.2781, Validation loss: 1.2632, Validation Accuracy: 57.73%\n",
            "Epoch 4, Training loss: 1.1517, Validation loss: 1.1206, Validation Accuracy: 63.71%\n",
            "Epoch 5, Training loss: 1.0628, Validation loss: 1.0601, Validation Accuracy: 66.34%\n",
            "Epoch 6, Training loss: 0.9950, Validation loss: 0.9792, Validation Accuracy: 66.85%\n",
            "Epoch 7, Training loss: 0.9328, Validation loss: 0.9083, Validation Accuracy: 70.42%\n",
            "Epoch 8, Training loss: 0.8804, Validation loss: 0.8843, Validation Accuracy: 70.63%\n",
            "Epoch 9, Training loss: 0.8348, Validation loss: 0.8308, Validation Accuracy: 71.88%\n",
            "Epoch 10, Training loss: 0.7899, Validation loss: 0.7807, Validation Accuracy: 74.16%\n",
            "Epoch 11, Training loss: 0.7512, Validation loss: 0.7432, Validation Accuracy: 75.54%\n",
            "Epoch 12, Training loss: 0.7129, Validation loss: 0.7114, Validation Accuracy: 76.18%\n",
            "Epoch 13, Training loss: 0.6781, Validation loss: 0.7052, Validation Accuracy: 76.61%\n",
            "Epoch 14, Training loss: 0.6475, Validation loss: 0.6823, Validation Accuracy: 76.93%\n",
            "Epoch 15, Training loss: 0.6127, Validation loss: 0.6702, Validation Accuracy: 77.31%\n",
            "Epoch 16, Training loss: 0.5820, Validation loss: 0.6491, Validation Accuracy: 77.57%\n",
            "Epoch 17, Training loss: 0.5564, Validation loss: 0.6534, Validation Accuracy: 77.96%\n",
            "Epoch 18, Training loss: 0.5253, Validation loss: 0.6294, Validation Accuracy: 78.76%\n",
            "Epoch 19, Training loss: 0.5008, Validation loss: 0.6117, Validation Accuracy: 79.17%\n",
            "Epoch 20, Training loss: 0.4788, Validation loss: 0.6176, Validation Accuracy: 78.89%\n",
            "Epoch 21, Training loss: 0.4516, Validation loss: 0.6221, Validation Accuracy: 78.36%\n",
            "Epoch 22, Training loss: 0.4207, Validation loss: 0.6022, Validation Accuracy: 79.28%\n",
            "Epoch 23, Training loss: 0.3999, Validation loss: 0.6118, Validation Accuracy: 78.81%\n",
            "Epoch 24, Training loss: 0.3785, Validation loss: 0.6135, Validation Accuracy: 79.13%\n",
            "Epoch 25, Training loss: 0.3611, Validation loss: 0.6045, Validation Accuracy: 79.51%\n",
            "Epoch 26, Training loss: 0.3356, Validation loss: 0.6307, Validation Accuracy: 78.73%\n",
            "Epoch 27, Training loss: 0.3179, Validation loss: 0.6120, Validation Accuracy: 79.54%\n",
            "Epoch 28, Training loss: 0.3003, Validation loss: 0.6158, Validation Accuracy: 79.86%\n",
            "Epoch 29, Training loss: 0.2858, Validation loss: 0.6316, Validation Accuracy: 78.99%\n",
            "Epoch 30, Training loss: 0.2666, Validation loss: 0.6227, Validation Accuracy: 79.92%\n",
            "\n",
            "Final Evaluation Metrics:\n",
            "Accuracy: 79.92%\n",
            "Precision: 0.8024\n",
            "Recall: 0.7992\n",
            "F1 Score: 0.7984\n"
          ]
        }
      ]
    },
    {
      "cell_type": "code",
      "source": [
        "total_params = sum(p.numel() for p in model_with_dropout_metrics['model'].parameters())\n",
        "print(f'Total number of parameters in the model: {total_params}')"
      ],
      "metadata": {
        "colab": {
          "base_uri": "https://localhost:8080/"
        },
        "id": "uQHplLAP6qRK",
        "outputId": "19003ee8-5109-4265-f503-88ce1fef504f"
      },
      "execution_count": 84,
      "outputs": [
        {
          "output_type": "stream",
          "name": "stdout",
          "text": [
            "Total number of parameters in the model: 7012554\n"
          ]
        }
      ]
    },
    {
      "cell_type": "code",
      "source": [
        "total_params = sum(p.numel() for p in model_with_dropout_metrics['model'].parameters())\n",
        "print(f'Total number of parameters in the model: {total_params}')"
      ],
      "metadata": {
        "colab": {
          "base_uri": "https://localhost:8080/"
        },
        "id": "kXi86ZL66q2R",
        "outputId": "6086fb7a-2265-4a94-d9a2-4b456812f469"
      },
      "execution_count": 85,
      "outputs": [
        {
          "output_type": "stream",
          "name": "stdout",
          "text": [
            "Total number of parameters in the model: 7012554\n"
          ]
        }
      ]
    },
    {
      "cell_type": "code",
      "source": [
        "epochs_list = [i for i in range(1, 30+1, 1)]\n",
        "plt.plot(epochs_list, model_with_dropout_metrics['train_loss'], label='Training loss')\n",
        "plt.plot(epochs_list, model_with_dropout_metrics['val_loss'], label='Validation loss')\n",
        "plt.xlabel('Epoch')\n",
        "plt.ylabel('Loss')\n",
        "plt.title('With Dropout')\n",
        "plt.legend()\n",
        "plt.show()"
      ],
      "metadata": {
        "colab": {
          "base_uri": "https://localhost:8080/",
          "height": 472
        },
        "id": "UaiPqhvX9pio",
        "outputId": "680e485a-37cd-4dbe-be1b-7717b58116e4"
      },
      "execution_count": 86,
      "outputs": [
        {
          "output_type": "display_data",
          "data": {
            "text/plain": [
              "<Figure size 640x480 with 1 Axes>"
            ],
            "image/png": "[encoded data removed]"
          },
          "metadata": {}
        }
      ]
    },
    {
      "cell_type": "code",
      "source": [
        "import torch.nn.functional as F\n",
        "class BasicBlock(nn.Module):\n",
        "    expansion = 1\n",
        "    def __init__(self, in_channels, out_channels, stride=1, dropout_rate=0.0):\n",
        "        super(BasicBlock, self).__init__()\n",
        "        self.conv1 = nn.Conv2d(in_channels, out_channels, kernel_size=3, stride=stride, padding=1, bias=False)\n",
        "        self.bn1 = nn.BatchNorm2d(out_channels)\n",
        "        self.conv2 = nn.Conv2d(out_channels, out_channels, kernel_size=3, stride=1, padding=1, bias=False)\n",
        "        self.bn2 = nn.BatchNorm2d(out_channels)\n",
        "\n",
        "        self.dropout = nn.Dropout(dropout_rate) if dropout_rate > 0 else nn.Identity()\n",
        "\n",
        "        self.shortcut = nn.Sequential()\n",
        "        if stride != 1 or in_channels != out_channels:\n",
        "            self.shortcut = nn.Sequential(\n",
        "                nn.Conv2d(in_channels, out_channels, kernel_size=1, stride=stride, bias=False),\n",
        "                nn.BatchNorm2d(out_channels)\n",
        "            )\n",
        "\n",
        "    def forward(self, x):\n",
        "        identity = x\n",
        "        out = F.relu(self.bn1(self.conv1(x)))\n",
        "        out = self.dropout(out)\n",
        "        out = self.bn2(self.conv2(out))\n",
        "        out += self.shortcut(identity)\n",
        "        out = F.relu(out)\n",
        "        return out\n",
        "\n",
        "class ResNet18(nn.Module):\n",
        "    def __init__(self, block, num_blocks, dropout_rate, num_classes=10):\n",
        "        super(ResNet18, self).__init__()\n",
        "        self.in_channels = 64\n",
        "\n",
        "        self.conv1 = nn.Conv2d(3, 64, kernel_size=3, stride=1, padding=1, bias=False)\n",
        "        self.bn1 = nn.BatchNorm2d(64)\n",
        "\n",
        "        self.layer1 = self._make_layer(block, 64, num_blocks[0], stride=1, dropout_rate=dropout_rate)\n",
        "        self.layer2 = self._make_layer(block, 128, num_blocks[1], stride=2, dropout_rate=dropout_rate)\n",
        "        self.layer3 = self._make_layer(block, 256, num_blocks[2], stride=2, dropout_rate=dropout_rate)\n",
        "        self.layer4 = self._make_layer(block, 512, num_blocks[3], stride=2, dropout_rate=dropout_rate)\n",
        "\n",
        "        self.avgpool = nn.AdaptiveAvgPool2d((1, 1))\n",
        "        self.linear = nn.Linear(512 * block.expansion, num_classes)\n",
        "\n",
        "    def _make_layer(self, block, out_channels, num_blocks, stride, dropout_rate):\n",
        "        layers = [block(self.in_channels, out_channels, stride, dropout_rate=dropout_rate)]\n",
        "        self.in_channels = out_channels * block.expansion\n",
        "        for _ in range(1, num_blocks):\n",
        "            layers.append(block(self.in_channels, out_channels, dropout_rate=dropout_rate))\n",
        "        return nn.Sequential(*layers)\n",
        "\n",
        "    def forward(self, x):\n",
        "        x = F.relu(self.bn1(self.conv1(x)))\n",
        "        x = self.layer1(x)\n",
        "        x = self.layer2(x)\n",
        "        x = self.layer3(x)\n",
        "        x = self.layer4(x)\n",
        "\n",
        "        x = self.avgpool(x)\n",
        "        x = torch.flatten(x, 1)\n",
        "        x = self.linear(x)\n",
        "        return x\n"
      ],
      "metadata": {
        "id": "7xLIrZeC9r-X"
      },
      "execution_count": 87,
      "outputs": []
    },
    {
      "cell_type": "code",
      "source": [
        "model_without_dropout = ResNet18(BasicBlock, [2, 2, 2, 2], 0, num_classes=10)  # 4 blocks with 2 layer each\n",
        "model_without_dropout.to(device)\n",
        "print(model_without_dropout)"
      ],
      "metadata": {
        "colab": {
          "base_uri": "https://localhost:8080/"
        },
        "id": "MAAaMcWk-Tn6",
        "outputId": "2803b535-d405-4071-d43c-f9f1813897b4"
      },
      "execution_count": 88,
      "outputs": [
        {
          "output_type": "stream",
          "name": "stdout",
          "text": [
            "ResNet18(\n",
            "  (conv1): Conv2d(3, 64, kernel_size=(3, 3), stride=(1, 1), padding=(1, 1), bias=False)\n",
            "  (bn1): BatchNorm2d(64, eps=1e-05, momentum=0.1, affine=True, track_running_stats=True)\n",
            "  (layer1): Sequential(\n",
            "    (0): BasicBlock(\n",
            "      (conv1): Conv2d(64, 64, kernel_size=(3, 3), stride=(1, 1), padding=(1, 1), bias=False)\n",
            "      (bn1): BatchNorm2d(64, eps=1e-05, momentum=0.1, affine=True, track_running_stats=True)\n",
            "      (conv2): Conv2d(64, 64, kernel_size=(3, 3), stride=(1, 1), padding=(1, 1), bias=False)\n",
            "      (bn2): BatchNorm2d(64, eps=1e-05, momentum=0.1, affine=True, track_running_stats=True)\n",
            "      (dropout): Identity()\n",
            "      (shortcut): Sequential()\n",
            "    )\n",
            "    (1): BasicBlock(\n",
            "      (conv1): Conv2d(64, 64, kernel_size=(3, 3), stride=(1, 1), padding=(1, 1), bias=False)\n",
            "      (bn1): BatchNorm2d(64, eps=1e-05, momentum=0.1, affine=True, track_running_stats=True)\n",
            "      (conv2): Conv2d(64, 64, kernel_size=(3, 3), stride=(1, 1), padding=(1, 1), bias=False)\n",
            "      (bn2): BatchNorm2d(64, eps=1e-05, momentum=0.1, affine=True, track_running_stats=True)\n",
            "      (dropout): Identity()\n",
            "      (shortcut): Sequential()\n",
            "    )\n",
            "  )\n",
            "  (layer2): Sequential(\n",
            "    (0): BasicBlock(\n",
            "      (conv1): Conv2d(64, 128, kernel_size=(3, 3), stride=(2, 2), padding=(1, 1), bias=False)\n",
            "      (bn1): BatchNorm2d(128, eps=1e-05, momentum=0.1, affine=True, track_running_stats=True)\n",
            "      (conv2): Conv2d(128, 128, kernel_size=(3, 3), stride=(1, 1), padding=(1, 1), bias=False)\n",
            "      (bn2): BatchNorm2d(128, eps=1e-05, momentum=0.1, affine=True, track_running_stats=True)\n",
            "      (dropout): Identity()\n",
            "      (shortcut): Sequential(\n",
            "        (0): Conv2d(64, 128, kernel_size=(1, 1), stride=(2, 2), bias=False)\n",
            "        (1): BatchNorm2d(128, eps=1e-05, momentum=0.1, affine=True, track_running_stats=True)\n",
            "      )\n",
            "    )\n",
            "    (1): BasicBlock(\n",
            "      (conv1): Conv2d(128, 128, kernel_size=(3, 3), stride=(1, 1), padding=(1, 1), bias=False)\n",
            "      (bn1): BatchNorm2d(128, eps=1e-05, momentum=0.1, affine=True, track_running_stats=True)\n",
            "      (conv2): Conv2d(128, 128, kernel_size=(3, 3), stride=(1, 1), padding=(1, 1), bias=False)\n",
            "      (bn2): BatchNorm2d(128, eps=1e-05, momentum=0.1, affine=True, track_running_stats=True)\n",
            "      (dropout): Identity()\n",
            "      (shortcut): Sequential()\n",
            "    )\n",
            "  )\n",
            "  (layer3): Sequential(\n",
            "    (0): BasicBlock(\n",
            "      (conv1): Conv2d(128, 256, kernel_size=(3, 3), stride=(2, 2), padding=(1, 1), bias=False)\n",
            "      (bn1): BatchNorm2d(256, eps=1e-05, momentum=0.1, affine=True, track_running_stats=True)\n",
            "      (conv2): Conv2d(256, 256, kernel_size=(3, 3), stride=(1, 1), padding=(1, 1), bias=False)\n",
            "      (bn2): BatchNorm2d(256, eps=1e-05, momentum=0.1, affine=True, track_running_stats=True)\n",
            "      (dropout): Identity()\n",
            "      (shortcut): Sequential(\n",
            "        (0): Conv2d(128, 256, kernel_size=(1, 1), stride=(2, 2), bias=False)\n",
            "        (1): BatchNorm2d(256, eps=1e-05, momentum=0.1, affine=True, track_running_stats=True)\n",
            "      )\n",
            "    )\n",
            "    (1): BasicBlock(\n",
            "      (conv1): Conv2d(256, 256, kernel_size=(3, 3), stride=(1, 1), padding=(1, 1), bias=False)\n",
            "      (bn1): BatchNorm2d(256, eps=1e-05, momentum=0.1, affine=True, track_running_stats=True)\n",
            "      (conv2): Conv2d(256, 256, kernel_size=(3, 3), stride=(1, 1), padding=(1, 1), bias=False)\n",
            "      (bn2): BatchNorm2d(256, eps=1e-05, momentum=0.1, affine=True, track_running_stats=True)\n",
            "      (dropout): Identity()\n",
            "      (shortcut): Sequential()\n",
            "    )\n",
            "  )\n",
            "  (layer4): Sequential(\n",
            "    (0): BasicBlock(\n",
            "      (conv1): Conv2d(256, 512, kernel_size=(3, 3), stride=(2, 2), padding=(1, 1), bias=False)\n",
            "      (bn1): BatchNorm2d(512, eps=1e-05, momentum=0.1, affine=True, track_running_stats=True)\n",
            "      (conv2): Conv2d(512, 512, kernel_size=(3, 3), stride=(1, 1), padding=(1, 1), bias=False)\n",
            "      (bn2): BatchNorm2d(512, eps=1e-05, momentum=0.1, affine=True, track_running_stats=True)\n",
            "      (dropout): Identity()\n",
            "      (shortcut): Sequential(\n",
            "        (0): Conv2d(256, 512, kernel_size=(1, 1), stride=(2, 2), bias=False)\n",
            "        (1): BatchNorm2d(512, eps=1e-05, momentum=0.1, affine=True, track_running_stats=True)\n",
            "      )\n",
            "    )\n",
            "    (1): BasicBlock(\n",
            "      (conv1): Conv2d(512, 512, kernel_size=(3, 3), stride=(1, 1), padding=(1, 1), bias=False)\n",
            "      (bn1): BatchNorm2d(512, eps=1e-05, momentum=0.1, affine=True, track_running_stats=True)\n",
            "      (conv2): Conv2d(512, 512, kernel_size=(3, 3), stride=(1, 1), padding=(1, 1), bias=False)\n",
            "      (bn2): BatchNorm2d(512, eps=1e-05, momentum=0.1, affine=True, track_running_stats=True)\n",
            "      (dropout): Identity()\n",
            "      (shortcut): Sequential()\n",
            "    )\n",
            "  )\n",
            "  (avgpool): AdaptiveAvgPool2d(output_size=(1, 1))\n",
            "  (linear): Linear(in_features=512, out_features=10, bias=True)\n",
            ")\n"
          ]
        }
      ]
    },
    {
      "cell_type": "code",
      "source": [
        "criterion = nn.CrossEntropyLoss()\n",
        "optimizer = optim.SGD(model_without_dropout.parameters(), lr=0.01)"
      ],
      "metadata": {
        "id": "lhIj4oVs-lle"
      },
      "execution_count": 89,
      "outputs": []
    },
    {
      "cell_type": "code",
      "source": [
        "model_without_dropout_metrics = train_and_evaluate_model(model_without_dropout, criterion, optimizer, train_loader, test_loader, device, n_epochs=30)\n",
        ""
      ],
      "metadata": {
        "colab": {
          "base_uri": "https://localhost:8080/"
        },
        "id": "u05uTr96-ovA",
        "outputId": "72d9cde4-13c7-460b-ebfb-341d50c153f3"
      },
      "execution_count": 90,
      "outputs": [
        {
          "output_type": "stream",
          "name": "stdout",
          "text": [
            "Epoch 1, Training loss: 1.2766, Validation loss: 0.9667, Validation Accuracy: 65.46%\n",
            "Epoch 2, Training loss: 0.7734, Validation loss: 0.7784, Validation Accuracy: 73.57%\n",
            "Epoch 3, Training loss: 0.5466, Validation loss: 0.7834, Validation Accuracy: 73.98%\n",
            "Epoch 4, Training loss: 0.3786, Validation loss: 0.6750, Validation Accuracy: 77.29%\n",
            "Epoch 5, Training loss: 0.2543, Validation loss: 0.8791, Validation Accuracy: 74.13%\n",
            "Epoch 6, Training loss: 0.1603, Validation loss: 0.8317, Validation Accuracy: 77.36%\n",
            "Epoch 7, Training loss: 0.1049, Validation loss: 1.0105, Validation Accuracy: 76.52%\n",
            "Epoch 8, Training loss: 0.0700, Validation loss: 0.9616, Validation Accuracy: 77.96%\n",
            "Epoch 9, Training loss: 0.0465, Validation loss: 0.7886, Validation Accuracy: 80.81%\n",
            "Epoch 10, Training loss: 0.0362, Validation loss: 0.7825, Validation Accuracy: 81.35%\n",
            "Epoch 11, Training loss: 0.0290, Validation loss: 0.7669, Validation Accuracy: 82.13%\n",
            "Epoch 12, Training loss: 0.0258, Validation loss: 1.1374, Validation Accuracy: 76.83%\n",
            "Epoch 13, Training loss: 0.0171, Validation loss: 1.1223, Validation Accuracy: 76.88%\n",
            "Epoch 14, Training loss: 0.0088, Validation loss: 0.7568, Validation Accuracy: 83.00%\n",
            "Epoch 15, Training loss: 0.0052, Validation loss: 0.7733, Validation Accuracy: 82.98%\n",
            "Epoch 16, Training loss: 0.0027, Validation loss: 0.7522, Validation Accuracy: 83.44%\n",
            "Epoch 17, Training loss: 0.0029, Validation loss: 0.7655, Validation Accuracy: 83.49%\n",
            "Epoch 18, Training loss: 0.0014, Validation loss: 0.7811, Validation Accuracy: 83.16%\n",
            "Epoch 19, Training loss: 0.0012, Validation loss: 0.7729, Validation Accuracy: 83.47%\n",
            "Epoch 20, Training loss: 0.0011, Validation loss: 0.7778, Validation Accuracy: 83.30%\n",
            "Epoch 21, Training loss: 0.0011, Validation loss: 0.7685, Validation Accuracy: 83.61%\n",
            "Epoch 22, Training loss: 0.0007, Validation loss: 0.7890, Validation Accuracy: 83.32%\n",
            "Epoch 23, Training loss: 0.0006, Validation loss: 0.7772, Validation Accuracy: 83.89%\n",
            "Epoch 24, Training loss: 0.0005, Validation loss: 0.7742, Validation Accuracy: 84.00%\n",
            "Epoch 25, Training loss: 0.0006, Validation loss: 0.7947, Validation Accuracy: 83.76%\n",
            "Epoch 26, Training loss: 0.0005, Validation loss: 0.7796, Validation Accuracy: 84.17%\n",
            "Epoch 27, Training loss: 0.0004, Validation loss: 0.7795, Validation Accuracy: 84.26%\n",
            "Epoch 28, Training loss: 0.0004, Validation loss: 0.7751, Validation Accuracy: 83.96%\n",
            "Epoch 29, Training loss: 0.0004, Validation loss: 0.7880, Validation Accuracy: 84.01%\n",
            "Epoch 30, Training loss: 0.0003, Validation loss: 0.7846, Validation Accuracy: 83.96%\n",
            "\n",
            "Final Evaluation Metrics:\n",
            "Accuracy: 83.96%\n",
            "Precision: 0.8394\n",
            "Recall: 0.8396\n",
            "F1 Score: 0.8391\n"
          ]
        }
      ]
    },
    {
      "cell_type": "code",
      "source": [
        "total_params = sum(p.numel() for p in model_without_dropout_metrics['model'].parameters())\n",
        "print(f'Total number of parameters in the model: {total_params}')\n",
        ""
      ],
      "metadata": {
        "colab": {
          "base_uri": "https://localhost:8080/"
        },
        "id": "nYwU9Eec-rFB",
        "outputId": "18597355-96d0-4152-a4a5-fa03e3105014"
      },
      "execution_count": 91,
      "outputs": [
        {
          "output_type": "stream",
          "name": "stdout",
          "text": [
            "Total number of parameters in the model: 11173962\n"
          ]
        }
      ]
    },
    {
      "cell_type": "code",
      "source": [
        "epochs_list = [i for i in range(1, 30+1, 1)]\n",
        "plt.plot(epochs_list, model_without_dropout_metrics['train_loss'], label='Training loss')\n",
        "plt.plot(epochs_list, model_without_dropout_metrics['val_loss'], label='Validation loss')\n",
        "plt.xlabel('Epoch')\n",
        "plt.ylabel('Loss')\n",
        "plt.title('Without Dropout')\n",
        "plt.legend()\n",
        "plt.show()"
      ],
      "metadata": {
        "colab": {
          "base_uri": "https://localhost:8080/",
          "height": 472
        },
        "id": "aCrOrKJgCaVX",
        "outputId": "73fc5c4e-d1df-4e17-eafe-6f77100d3f22"
      },
      "execution_count": 93,
      "outputs": [
        {
          "output_type": "display_data",
          "data": {
            "text/plain": [
              "<Figure size 640x480 with 1 Axes>"
            ],
            "image/png": "[encoded data removed]"
          },
          "metadata": {}
        }
      ]
    },
    {
      "cell_type": "code",
      "source": [
        "model_with_dropout = ResNet18(BasicBlock, [2, 2, 2, 2], 0.5, num_classes=10)  # 4 blocks with 2 layer each\n",
        "model_with_dropout.to(device)\n",
        "print(model_with_dropout)\n",
        "\n"
      ],
      "metadata": {
        "colab": {
          "base_uri": "https://localhost:8080/"
        },
        "id": "QHjP3PuhCcIn",
        "outputId": "ce9e650b-e2e5-4b83-8ce0-5dd74ab33fa8"
      },
      "execution_count": 96,
      "outputs": [
        {
          "output_type": "stream",
          "name": "stdout",
          "text": [
            "ResNet18(\n",
            "  (conv1): Conv2d(3, 64, kernel_size=(3, 3), stride=(1, 1), padding=(1, 1), bias=False)\n",
            "  (bn1): BatchNorm2d(64, eps=1e-05, momentum=0.1, affine=True, track_running_stats=True)\n",
            "  (layer1): Sequential(\n",
            "    (0): BasicBlock(\n",
            "      (conv1): Conv2d(64, 64, kernel_size=(3, 3), stride=(1, 1), padding=(1, 1), bias=False)\n",
            "      (bn1): BatchNorm2d(64, eps=1e-05, momentum=0.1, affine=True, track_running_stats=True)\n",
            "      (conv2): Conv2d(64, 64, kernel_size=(3, 3), stride=(1, 1), padding=(1, 1), bias=False)\n",
            "      (bn2): BatchNorm2d(64, eps=1e-05, momentum=0.1, affine=True, track_running_stats=True)\n",
            "      (dropout): Dropout(p=0.5, inplace=False)\n",
            "      (shortcut): Sequential()\n",
            "    )\n",
            "    (1): BasicBlock(\n",
            "      (conv1): Conv2d(64, 64, kernel_size=(3, 3), stride=(1, 1), padding=(1, 1), bias=False)\n",
            "      (bn1): BatchNorm2d(64, eps=1e-05, momentum=0.1, affine=True, track_running_stats=True)\n",
            "      (conv2): Conv2d(64, 64, kernel_size=(3, 3), stride=(1, 1), padding=(1, 1), bias=False)\n",
            "      (bn2): BatchNorm2d(64, eps=1e-05, momentum=0.1, affine=True, track_running_stats=True)\n",
            "      (dropout): Dropout(p=0.5, inplace=False)\n",
            "      (shortcut): Sequential()\n",
            "    )\n",
            "  )\n",
            "  (layer2): Sequential(\n",
            "    (0): BasicBlock(\n",
            "      (conv1): Conv2d(64, 128, kernel_size=(3, 3), stride=(2, 2), padding=(1, 1), bias=False)\n",
            "      (bn1): BatchNorm2d(128, eps=1e-05, momentum=0.1, affine=True, track_running_stats=True)\n",
            "      (conv2): Conv2d(128, 128, kernel_size=(3, 3), stride=(1, 1), padding=(1, 1), bias=False)\n",
            "      (bn2): BatchNorm2d(128, eps=1e-05, momentum=0.1, affine=True, track_running_stats=True)\n",
            "      (dropout): Dropout(p=0.5, inplace=False)\n",
            "      (shortcut): Sequential(\n",
            "        (0): Conv2d(64, 128, kernel_size=(1, 1), stride=(2, 2), bias=False)\n",
            "        (1): BatchNorm2d(128, eps=1e-05, momentum=0.1, affine=True, track_running_stats=True)\n",
            "      )\n",
            "    )\n",
            "    (1): BasicBlock(\n",
            "      (conv1): Conv2d(128, 128, kernel_size=(3, 3), stride=(1, 1), padding=(1, 1), bias=False)\n",
            "      (bn1): BatchNorm2d(128, eps=1e-05, momentum=0.1, affine=True, track_running_stats=True)\n",
            "      (conv2): Conv2d(128, 128, kernel_size=(3, 3), stride=(1, 1), padding=(1, 1), bias=False)\n",
            "      (bn2): BatchNorm2d(128, eps=1e-05, momentum=0.1, affine=True, track_running_stats=True)\n",
            "      (dropout): Dropout(p=0.5, inplace=False)\n",
            "      (shortcut): Sequential()\n",
            "    )\n",
            "  )\n",
            "  (layer3): Sequential(\n",
            "    (0): BasicBlock(\n",
            "      (conv1): Conv2d(128, 256, kernel_size=(3, 3), stride=(2, 2), padding=(1, 1), bias=False)\n",
            "      (bn1): BatchNorm2d(256, eps=1e-05, momentum=0.1, affine=True, track_running_stats=True)\n",
            "      (conv2): Conv2d(256, 256, kernel_size=(3, 3), stride=(1, 1), padding=(1, 1), bias=False)\n",
            "      (bn2): BatchNorm2d(256, eps=1e-05, momentum=0.1, affine=True, track_running_stats=True)\n",
            "      (dropout): Dropout(p=0.5, inplace=False)\n",
            "      (shortcut): Sequential(\n",
            "        (0): Conv2d(128, 256, kernel_size=(1, 1), stride=(2, 2), bias=False)\n",
            "        (1): BatchNorm2d(256, eps=1e-05, momentum=0.1, affine=True, track_running_stats=True)\n",
            "      )\n",
            "    )\n",
            "    (1): BasicBlock(\n",
            "      (conv1): Conv2d(256, 256, kernel_size=(3, 3), stride=(1, 1), padding=(1, 1), bias=False)\n",
            "      (bn1): BatchNorm2d(256, eps=1e-05, momentum=0.1, affine=True, track_running_stats=True)\n",
            "      (conv2): Conv2d(256, 256, kernel_size=(3, 3), stride=(1, 1), padding=(1, 1), bias=False)\n",
            "      (bn2): BatchNorm2d(256, eps=1e-05, momentum=0.1, affine=True, track_running_stats=True)\n",
            "      (dropout): Dropout(p=0.5, inplace=False)\n",
            "      (shortcut): Sequential()\n",
            "    )\n",
            "  )\n",
            "  (layer4): Sequential(\n",
            "    (0): BasicBlock(\n",
            "      (conv1): Conv2d(256, 512, kernel_size=(3, 3), stride=(2, 2), padding=(1, 1), bias=False)\n",
            "      (bn1): BatchNorm2d(512, eps=1e-05, momentum=0.1, affine=True, track_running_stats=True)\n",
            "      (conv2): Conv2d(512, 512, kernel_size=(3, 3), stride=(1, 1), padding=(1, 1), bias=False)\n",
            "      (bn2): BatchNorm2d(512, eps=1e-05, momentum=0.1, affine=True, track_running_stats=True)\n",
            "      (dropout): Dropout(p=0.5, inplace=False)\n",
            "      (shortcut): Sequential(\n",
            "        (0): Conv2d(256, 512, kernel_size=(1, 1), stride=(2, 2), bias=False)\n",
            "        (1): BatchNorm2d(512, eps=1e-05, momentum=0.1, affine=True, track_running_stats=True)\n",
            "      )\n",
            "    )\n",
            "    (1): BasicBlock(\n",
            "      (conv1): Conv2d(512, 512, kernel_size=(3, 3), stride=(1, 1), padding=(1, 1), bias=False)\n",
            "      (bn1): BatchNorm2d(512, eps=1e-05, momentum=0.1, affine=True, track_running_stats=True)\n",
            "      (conv2): Conv2d(512, 512, kernel_size=(3, 3), stride=(1, 1), padding=(1, 1), bias=False)\n",
            "      (bn2): BatchNorm2d(512, eps=1e-05, momentum=0.1, affine=True, track_running_stats=True)\n",
            "      (dropout): Dropout(p=0.5, inplace=False)\n",
            "      (shortcut): Sequential()\n",
            "    )\n",
            "  )\n",
            "  (avgpool): AdaptiveAvgPool2d(output_size=(1, 1))\n",
            "  (linear): Linear(in_features=512, out_features=10, bias=True)\n",
            ")\n"
          ]
        }
      ]
    },
    {
      "cell_type": "code",
      "source": [
        "criterion = nn.CrossEntropyLoss()\n",
        "optimizer = optim.SGD(model_with_dropout.parameters(), lr=0.01)"
      ],
      "metadata": {
        "id": "HSB1MX-LCzlw"
      },
      "execution_count": 97,
      "outputs": []
    },
    {
      "cell_type": "code",
      "source": [
        "model_with_dropout_metrics = train_and_evaluate_model(model_with_dropout, criterion, optimizer, train_loader, test_loader, device, n_epochs=30)\n",
        ""
      ],
      "metadata": {
        "colab": {
          "base_uri": "https://localhost:8080/"
        },
        "id": "agJQ-MZuC1pQ",
        "outputId": "b06bd8fd-6d81-4093-9aa2-772505bda5e8"
      },
      "execution_count": 98,
      "outputs": [
        {
          "output_type": "stream",
          "name": "stdout",
          "text": [
            "Epoch 1, Training loss: 1.6429, Validation loss: 1.6399, Validation Accuracy: 43.34%\n",
            "Epoch 2, Training loss: 1.2525, Validation loss: 1.2092, Validation Accuracy: 58.34%\n",
            "Epoch 3, Training loss: 1.0420, Validation loss: 0.9238, Validation Accuracy: 67.11%\n",
            "Epoch 4, Training loss: 0.9139, Validation loss: 0.8945, Validation Accuracy: 68.85%\n",
            "Epoch 5, Training loss: 0.8250, Validation loss: 0.8346, Validation Accuracy: 71.28%\n",
            "Epoch 6, Training loss: 0.7442, Validation loss: 0.7542, Validation Accuracy: 74.35%\n",
            "Epoch 7, Training loss: 0.6818, Validation loss: 0.6578, Validation Accuracy: 77.13%\n",
            "Epoch 8, Training loss: 0.6244, Validation loss: 0.7127, Validation Accuracy: 76.22%\n",
            "Epoch 9, Training loss: 0.5802, Validation loss: 0.5948, Validation Accuracy: 79.97%\n",
            "Epoch 10, Training loss: 0.5417, Validation loss: 0.5922, Validation Accuracy: 80.45%\n",
            "Epoch 11, Training loss: 0.5050, Validation loss: 0.5804, Validation Accuracy: 81.01%\n",
            "Epoch 12, Training loss: 0.4782, Validation loss: 0.5146, Validation Accuracy: 83.18%\n",
            "Epoch 13, Training loss: 0.4439, Validation loss: 0.5075, Validation Accuracy: 83.26%\n",
            "Epoch 14, Training loss: 0.4223, Validation loss: 0.5882, Validation Accuracy: 80.60%\n",
            "Epoch 15, Training loss: 0.3985, Validation loss: 0.4723, Validation Accuracy: 84.03%\n",
            "Epoch 16, Training loss: 0.3699, Validation loss: 0.4751, Validation Accuracy: 84.69%\n",
            "Epoch 17, Training loss: 0.3533, Validation loss: 0.4970, Validation Accuracy: 83.57%\n",
            "Epoch 18, Training loss: 0.3319, Validation loss: 0.5133, Validation Accuracy: 83.84%\n",
            "Epoch 19, Training loss: 0.3170, Validation loss: 0.4748, Validation Accuracy: 85.11%\n",
            "Epoch 20, Training loss: 0.2959, Validation loss: 0.4613, Validation Accuracy: 85.49%\n",
            "Epoch 21, Training loss: 0.2819, Validation loss: 0.4613, Validation Accuracy: 85.67%\n",
            "Epoch 22, Training loss: 0.2655, Validation loss: 0.4891, Validation Accuracy: 85.17%\n",
            "Epoch 23, Training loss: 0.2477, Validation loss: 0.4813, Validation Accuracy: 85.54%\n",
            "Epoch 24, Training loss: 0.2373, Validation loss: 0.5033, Validation Accuracy: 85.21%\n",
            "Epoch 25, Training loss: 0.2254, Validation loss: 0.4804, Validation Accuracy: 85.88%\n",
            "Epoch 26, Training loss: 0.2088, Validation loss: 0.5231, Validation Accuracy: 84.64%\n",
            "Epoch 27, Training loss: 0.1990, Validation loss: 0.4846, Validation Accuracy: 85.85%\n",
            "Epoch 28, Training loss: 0.1931, Validation loss: 0.4619, Validation Accuracy: 86.63%\n",
            "Epoch 29, Training loss: 0.1726, Validation loss: 0.5086, Validation Accuracy: 85.79%\n",
            "Epoch 30, Training loss: 0.1653, Validation loss: 0.4650, Validation Accuracy: 86.61%\n",
            "\n",
            "Final Evaluation Metrics:\n",
            "Accuracy: 86.61%\n",
            "Precision: 0.8674\n",
            "Recall: 0.8661\n",
            "F1 Score: 0.8656\n"
          ]
        }
      ]
    },
    {
      "cell_type": "code",
      "source": [
        "total_params = sum(p.numel() for p in model_with_dropout_metrics['model'].parameters())\n",
        "print(f'Total number of parameters in the model: {total_params}')"
      ],
      "metadata": {
        "colab": {
          "base_uri": "https://localhost:8080/"
        },
        "id": "TaYnFiLnGY5V",
        "outputId": "07a57fe0-9568-4a61-e7d3-1dac32a2f3a8"
      },
      "execution_count": 99,
      "outputs": [
        {
          "output_type": "stream",
          "name": "stdout",
          "text": [
            "Total number of parameters in the model: 11173962\n"
          ]
        }
      ]
    },
    {
      "cell_type": "code",
      "source": [
        "epochs_list = [i for i in range(1, 30+1, 1)]\n",
        "plt.plot(epochs_list, model_with_dropout_metrics['train_loss'], label='Training loss')\n",
        "plt.plot(epochs_list, model_with_dropout_metrics['val_loss'], label='Validation loss')\n",
        "plt.xlabel('Epoch')\n",
        "plt.ylabel('Loss')\n",
        "plt.title('With Dropout')\n",
        "plt.legend()\n",
        "plt.show()"
      ],
      "metadata": {
        "colab": {
          "base_uri": "https://localhost:8080/",
          "height": 472
        },
        "id": "REuUtzvFGdi2",
        "outputId": "35f4c3e3-1d51-4390-a08d-815e55efaae4"
      },
      "execution_count": 101,
      "outputs": [
        {
          "output_type": "display_data",
          "data": {
            "text/plain": [
              "<Figure size 640x480 with 1 Axes>"
            ],
            "image/png": "[encoded data removed]"
          },
          "metadata": {}
        }
      ]
    },
    {
      "cell_type": "code",
      "source": [],
      "metadata": {
        "id": "nYJF8XBBGgBe"
      },
      "execution_count": null,
      "outputs": []
    }
  ]
}